{
  "nbformat": 4,
  "nbformat_minor": 0,
  "metadata": {
    "colab": {
      "name": "HW08_9927568388_VesaliBarazande_Sara_vesali_barazande_gmail.ipynb",
      "provenance": [],
      "collapsed_sections": []
    },
    "kernelspec": {
      "name": "python3",
      "display_name": "Python 3"
    },
    "language_info": {
      "name": "python"
    },
    "accelerator": "GPU"
  },
  "cells": [
    {
      "cell_type": "markdown",
      "metadata": {
        "id": "G_sCp7C2KZqd"
      },
      "source": [
        "### از آن جایی که پس از هر بار اجرا، دیکشنری هایی که برای کد کردن تگ ها و اینتنت ها ساخته‌ایم، با مقادیر متفاوتی مقداردهی میشوند و بهترین وزنهایی که قبلا سیو شده اند، دیگر دقت کافی را به ما نمیدهند، بهترین وزن را سیو نکرده و خواهشمند است یک دور شبکه را ترین کنین. زمان کمی میبرد. باتشکر"
      ]
    },
    {
      "cell_type": "code",
      "metadata": {
        "colab": {
          "base_uri": "https://localhost:8080/"
        },
        "id": "-09V1OTmRHCQ",
        "outputId": "16c80e3e-0f3f-4b89-89d5-d68ae2718862"
      },
      "source": [
        "!gdown --id 104TU-gdBAtalfRyaauuKaOobhGbB52Zf"
      ],
      "execution_count": null,
      "outputs": [
        {
          "output_type": "stream",
          "name": "stdout",
          "text": [
            "Downloading...\n",
            "From: https://drive.google.com/uc?id=104TU-gdBAtalfRyaauuKaOobhGbB52Zf\n",
            "To: /content/data.zip\n",
            "\r  0% 0.00/649k [00:00<?, ?B/s]\r100% 649k/649k [00:00<00:00, 43.1MB/s]\n"
          ]
        }
      ]
    },
    {
      "cell_type": "code",
      "metadata": {
        "colab": {
          "base_uri": "https://localhost:8080/"
        },
        "id": "yTJi9N8eJovj",
        "outputId": "4179a373-1cce-4238-d38c-9544ca4e6442"
      },
      "source": [
        "!unzip '/content/data.zip' -d '/content/data_folder/'"
      ],
      "execution_count": null,
      "outputs": [
        {
          "output_type": "stream",
          "name": "stdout",
          "text": [
            "Archive:  /content/data.zip\n",
            "replace /content/data_folder/simple-dstc2-trn.json? [y]es, [n]o, [A]ll, [N]one, [r]ename: "
          ]
        }
      ]
    },
    {
      "cell_type": "code",
      "metadata": {
        "id": "mflos8eOL59o"
      },
      "source": [
        "import json\n",
        "\n",
        "def read_json_file (PATH):\n",
        "  \n",
        "  f = open (PATH, \"r\")\n",
        "\n",
        "  # Reading from file  \n",
        "  data = json.loads(f.read())\n",
        "  sentences = []\n",
        "  for sent in data.keys():\n",
        "    sentences.append(sent)\n",
        "\n",
        "  nertags = []\n",
        "  for datta in data.values():\n",
        "    tags = datta['NERTAGS']\n",
        "    nertags.append(tags)\n",
        "\n",
        "  intents = []\n",
        "  for dattaa in data.values():\n",
        "    intent = dattaa['INTENTS']\n",
        "    intents.append(intent)\n",
        "  \n",
        "\n",
        "  return sentences , nertags , intents"
      ],
      "execution_count": null,
      "outputs": []
    },
    {
      "cell_type": "code",
      "metadata": {
        "id": "B1CXPUkMbm28"
      },
      "source": [
        "sentences_train, nertags_train , intents_train = read_json_file('/content/data_folder/ner_intent_train.json')\n",
        "sentences_valid, nertags_valid , intents_valid = read_json_file('/content/data_folder/ner_intent_valid.json')\n",
        "sentences_test, nertags_test , intents_test= read_json_file('/content/data_folder/ner_intent_test.json')"
      ],
      "execution_count": null,
      "outputs": []
    },
    {
      "cell_type": "markdown",
      "metadata": {
        "id": "8FDrk6H-hrsS"
      },
      "source": [
        "# **Question 1**"
      ]
    },
    {
      "cell_type": "code",
      "metadata": {
        "id": "5gDI05HZLFHb"
      },
      "source": [
        "unique_tags = ['O']\n",
        "\n",
        "total_nertags = nertags_train + nertags_valid + nertags_test\n",
        "\n",
        "for tags in total_nertags:\n",
        "  for tag in tags:\n",
        "    unique_tags.append(tag)\n",
        "\n",
        "unique_tags = set(unique_tags)"
      ],
      "execution_count": null,
      "outputs": []
    },
    {
      "cell_type": "code",
      "metadata": {
        "id": "egkuR4hCTX8Q"
      },
      "source": [
        "n_tags = len(unique_tags)"
      ],
      "execution_count": null,
      "outputs": []
    },
    {
      "cell_type": "code",
      "metadata": {
        "id": "m0XlwrnbT-wh",
        "colab": {
          "base_uri": "https://localhost:8080/"
        },
        "outputId": "4f04dce1-867a-4aac-96f5-c17add464855"
      },
      "source": [
        "n_tags"
      ],
      "execution_count": null,
      "outputs": [
        {
          "output_type": "execute_result",
          "data": {
            "text/plain": [
              "11"
            ]
          },
          "metadata": {},
          "execution_count": 83
        }
      ]
    },
    {
      "cell_type": "code",
      "metadata": {
        "id": "cSuPABKMTahG"
      },
      "source": [
        "tags2index = {t:i for i,t in enumerate(unique_tags)}"
      ],
      "execution_count": null,
      "outputs": []
    },
    {
      "cell_type": "code",
      "metadata": {
        "id": "GnGDviHJpo91",
        "colab": {
          "base_uri": "https://localhost:8080/"
        },
        "outputId": "3a4205af-818a-4ce5-95eb-40e3a439e9ae"
      },
      "source": [
        "tags2index"
      ],
      "execution_count": null,
      "outputs": [
        {
          "output_type": "execute_result",
          "data": {
            "text/plain": [
              "{'B-area': 3,\n",
              " 'B-food': 10,\n",
              " 'B-name': 1,\n",
              " 'B-pricerange': 9,\n",
              " 'B-this': 6,\n",
              " 'I-area': 8,\n",
              " 'I-food': 4,\n",
              " 'I-name': 5,\n",
              " 'I-pricerange': 2,\n",
              " 'I-this': 7,\n",
              " 'O': 0}"
            ]
          },
          "metadata": {},
          "execution_count": 85
        }
      ]
    },
    {
      "cell_type": "code",
      "metadata": {
        "id": "U9hpSqKxqRLc"
      },
      "source": [
        "key_list = list(tags2index.keys())\n",
        "val_list = list(tags2index.values())"
      ],
      "execution_count": null,
      "outputs": []
    },
    {
      "cell_type": "code",
      "metadata": {
        "id": "0W4C7SykcE7W"
      },
      "source": [
        "def get_int_tag (seq_tags):\n",
        "\n",
        "  int_nertags = []\n",
        "  for tags in seq_tags:\n",
        "    int_tags = [tags2index[tag] for tag in tags]\n",
        "    int_nertags.append(int_tags)\n",
        "  return int_nertags\n"
      ],
      "execution_count": null,
      "outputs": []
    },
    {
      "cell_type": "code",
      "metadata": {
        "id": "7rxcEcX1dET0"
      },
      "source": [
        "int_nertags_train = get_int_tag (nertags_train)\n",
        "int_nertags_valid = get_int_tag (nertags_valid)\n",
        "int_nertags_test = get_int_tag (nertags_test)"
      ],
      "execution_count": null,
      "outputs": []
    },
    {
      "cell_type": "code",
      "metadata": {
        "id": "3Rq7SrKMesgw",
        "colab": {
          "base_uri": "https://localhost:8080/"
        },
        "outputId": "0b2feb38-7e2e-4014-f3ef-432ecdb81b0c"
      },
      "source": [
        "int_nertags_train[7] , nertags_train[7]"
      ],
      "execution_count": null,
      "outputs": [
        {
          "output_type": "execute_result",
          "data": {
            "text/plain": [
              "([10, 0], ['B-food', 'O'])"
            ]
          },
          "metadata": {},
          "execution_count": 89
        }
      ]
    },
    {
      "cell_type": "code",
      "metadata": {
        "id": "OxY9gqCzTrFN"
      },
      "source": [
        "from keras.preprocessing.text import Tokenizer\n",
        "\n",
        "tokenizer = Tokenizer()\n",
        "tokenizer.fit_on_texts(sentences_train+sentences_test+sentences_valid)\n",
        "\n",
        "X_train = tokenizer.texts_to_sequences(sentences_train)\n",
        "X_test = tokenizer.texts_to_sequences(sentences_test)\n",
        "X_valid = tokenizer.texts_to_sequences(sentences_valid)\n"
      ],
      "execution_count": null,
      "outputs": []
    },
    {
      "cell_type": "code",
      "metadata": {
        "id": "yPjfFT2MUDK8"
      },
      "source": [
        "vocab_size = len(tokenizer.word_index) + 1 "
      ],
      "execution_count": null,
      "outputs": []
    },
    {
      "cell_type": "markdown",
      "metadata": {
        "id": "05JHpKMLZXeK"
      },
      "source": [
        "### دو سلول بعدی برای این که انتخاب درستی از حداکثر طول جمله ورودی به شبکه داشته باشیم، نوشته شده است."
      ]
    },
    {
      "cell_type": "code",
      "metadata": {
        "id": "e9WAsfTxUGH1",
        "colab": {
          "base_uri": "https://localhost:8080/"
        },
        "outputId": "51fc3079-f956-4274-ae09-0b1fa159fe4e"
      },
      "source": [
        "sent_length = {}\n",
        "\n",
        "for elem in X_train:\n",
        "  res = len(elem)\n",
        "  if res in sent_length:\n",
        "    sent_length[res]+=1\n",
        "  else:\n",
        "    sent_length[res]=1\n",
        "\n",
        "print(sent_length)"
      ],
      "execution_count": null,
      "outputs": [
        {
          "output_type": "stream",
          "name": "stdout",
          "text": [
            "{2: 196, 1: 145, 4: 246, 5: 239, 12: 68, 10: 89, 3: 173, 7: 127, 11: 87, 9: 121, 6: 182, 8: 132, 16: 18, 13: 54, 18: 3, 15: 25, 14: 26, 17: 2}\n"
          ]
        }
      ]
    },
    {
      "cell_type": "code",
      "metadata": {
        "id": "jsdxdIaOUIw9",
        "colab": {
          "base_uri": "https://localhost:8080/",
          "height": 265
        },
        "outputId": "0668433b-e19a-46ff-d70f-c41c9e8fb7f7"
      },
      "source": [
        "import matplotlib.pyplot as plt\n",
        "\n",
        "x = [key for key in sent_length]\n",
        "y = [sent_length[key] for key in sent_length]\n",
        "\n",
        "plt.scatter(x, y)\n",
        "plt.show()"
      ],
      "execution_count": null,
      "outputs": [
        {
          "output_type": "display_data",
          "data": {
            "image/png": "[encoded data removed]",
            "text/plain": [
              "<Figure size 432x288 with 1 Axes>"
            ]
          },
          "metadata": {
            "needs_background": "light"
          }
        }
      ]
    },
    {
      "cell_type": "code",
      "metadata": {
        "id": "9_pJMVlLVXIO"
      },
      "source": [
        "max_len = 8"
      ],
      "execution_count": null,
      "outputs": []
    },
    {
      "cell_type": "code",
      "metadata": {
        "id": "EBYsHn2eVaX-"
      },
      "source": [
        "# pad sentences and their tag_seqs\n",
        "from keras.preprocessing.sequence import pad_sequences\n",
        "\n",
        "X_train = pad_sequences(X_train, padding='post', maxlen=max_len)\n",
        "X_valid = pad_sequences(X_valid, padding='post', maxlen=max_len)\n",
        "X_test = pad_sequences(X_test, padding='post', maxlen=max_len)\n",
        "\n",
        "\n",
        "nertags_train = pad_sequences(int_nertags_train,  padding='post', maxlen=max_len, value=tags2index[\"O\"])\n",
        "nertags_valid = pad_sequences(int_nertags_valid,  padding='post', maxlen=max_len, value=tags2index[\"O\"])\n",
        "nertags_test = pad_sequences(int_nertags_test,  padding='post', maxlen=max_len, value=tags2index[\"O\"])"
      ],
      "execution_count": null,
      "outputs": []
    },
    {
      "cell_type": "code",
      "metadata": {
        "id": "sUeiCLv_foRL",
        "colab": {
          "base_uri": "https://localhost:8080/"
        },
        "outputId": "fe1b6d9c-ed59-4448-b5a6-7d7ff7fb8dbd"
      },
      "source": [
        "X_train[3], nertags_train[3]"
      ],
      "execution_count": null,
      "outputs": [
        {
          "output_type": "execute_result",
          "data": {
            "text/plain": [
              "(array([18,  0,  0,  0,  0,  0,  0,  0], dtype=int32),\n",
              " array([0, 0, 0, 0, 0, 0, 0, 0], dtype=int32))"
            ]
          },
          "metadata": {},
          "execution_count": 96
        }
      ]
    },
    {
      "cell_type": "code",
      "metadata": {
        "id": "layFntj0W-EE"
      },
      "source": [
        "# Reshape taq_sequences in order to give to the network.\n",
        "nertags_train = nertags_train.reshape(nertags_train.shape[0], nertags_train.shape[1], 1)\n",
        "nertags_valid = nertags_valid.reshape(nertags_valid.shape[0], nertags_valid.shape[1], 1)\n",
        "nertags_test = nertags_test.reshape(nertags_test.shape[0], nertags_test.shape[1], 1)"
      ],
      "execution_count": null,
      "outputs": []
    },
    {
      "cell_type": "code",
      "metadata": {
        "id": "fOnKTF6sfwRM"
      },
      "source": [
        "# Define slot_filling_model\n",
        "\n",
        "from tensorflow.keras.models import Sequential\n",
        "from tensorflow.keras.layers import LSTM, Embedding, Dense, TimeDistributed, Dropout, Bidirectional, GRU\n",
        "\n",
        "embedding_dim = 100\n",
        "\n",
        "slot_filling_model = Sequential()\n",
        "slot_filling_model.add(Embedding(input_dim=vocab_size, \n",
        "                           output_dim=embedding_dim, \n",
        "                           input_length=max_len,\n",
        "                           trainable=True))\n",
        "\n",
        "slot_filling_model.add(Bidirectional(GRU(300, dropout=0.2,  return_sequences=True)))\n",
        "slot_filling_model.add(TimeDistributed(Dense(n_tags, activation=\"softmax\")))"
      ],
      "execution_count": null,
      "outputs": []
    },
    {
      "cell_type": "code",
      "metadata": {
        "id": "IDJb8Bwmf8sr",
        "colab": {
          "base_uri": "https://localhost:8080/"
        },
        "outputId": "79030c7a-eb24-4d89-938f-9c5f12ee92dd"
      },
      "source": [
        "slot_filling_model.summary()"
      ],
      "execution_count": null,
      "outputs": [
        {
          "output_type": "stream",
          "name": "stdout",
          "text": [
            "Model: \"sequential_2\"\n",
            "_________________________________________________________________\n",
            "Layer (type)                 Output Shape              Param #   \n",
            "=================================================================\n",
            "embedding_2 (Embedding)      (None, 8, 100)            63500     \n",
            "_________________________________________________________________\n",
            "bidirectional_2 (Bidirection (None, 8, 600)            723600    \n",
            "_________________________________________________________________\n",
            "time_distributed_1 (TimeDist (None, 8, 11)             6611      \n",
            "=================================================================\n",
            "Total params: 793,711\n",
            "Trainable params: 793,711\n",
            "Non-trainable params: 0\n",
            "_________________________________________________________________\n"
          ]
        }
      ]
    },
    {
      "cell_type": "code",
      "metadata": {
        "id": "qT0s9JYwgAob"
      },
      "source": [
        "slot_filling_model.compile(optimizer=\"adam\", loss=\"sparse_categorical_crossentropy\", metrics=[\"accuracy\"])"
      ],
      "execution_count": null,
      "outputs": []
    },
    {
      "cell_type": "code",
      "metadata": {
        "id": "Ouqbu1UsgC1N",
        "colab": {
          "base_uri": "https://localhost:8080/"
        },
        "outputId": "803af3af-8450-408c-e967-341d5ff4e272"
      },
      "source": [
        "from tensorflow.keras.callbacks import ModelCheckpoint\n",
        "\n",
        "# define checkpoint\n",
        "checkpoint_1 = ModelCheckpoint('/content/slot_filling_model-{epoch:03d}--{val_accuracy:03f}.h5', verbose=1, monitor='val_accuracy',save_best_only=True, \n",
        "                             save_weights_only=True, mode='max') \n",
        "\n",
        "\n",
        "batch_size = 32\n",
        "import numpy as np\n",
        "\n",
        "history1 = slot_filling_model.fit(np.array(X_train), nertags_train, validation_data=(np.array(X_valid), nertags_valid),\n",
        "                    batch_size=batch_size, epochs=8, verbose=1 ,callbacks=[checkpoint_1])"
      ],
      "execution_count": null,
      "outputs": [
        {
          "output_type": "stream",
          "name": "stdout",
          "text": [
            "Epoch 1/8\n",
            "61/61 [==============================] - 5s 30ms/step - loss: 0.7442 - accuracy: 0.8696 - val_loss: 0.3746 - val_accuracy: 0.8861\n",
            "\n",
            "Epoch 00001: val_accuracy improved from -inf to 0.88608, saving model to /content/slot_filling_model-001--0.886080.h5\n",
            "Epoch 2/8\n",
            "61/61 [==============================] - 1s 18ms/step - loss: 0.2295 - accuracy: 0.9321 - val_loss: 0.1181 - val_accuracy: 0.9765\n",
            "\n",
            "Epoch 00002: val_accuracy improved from 0.88608 to 0.97654, saving model to /content/slot_filling_model-002--0.976541.h5\n",
            "Epoch 3/8\n",
            "61/61 [==============================] - 1s 18ms/step - loss: 0.0868 - accuracy: 0.9818 - val_loss: 0.0722 - val_accuracy: 0.9832\n",
            "\n",
            "Epoch 00003: val_accuracy improved from 0.97654 to 0.98321, saving model to /content/slot_filling_model-003--0.983206.h5\n",
            "Epoch 4/8\n",
            "61/61 [==============================] - 1s 18ms/step - loss: 0.0582 - accuracy: 0.9855 - val_loss: 0.0580 - val_accuracy: 0.9852\n",
            "\n",
            "Epoch 00004: val_accuracy improved from 0.98321 to 0.98520, saving model to /content/slot_filling_model-004--0.985197.h5\n",
            "Epoch 5/8\n",
            "61/61 [==============================] - 1s 18ms/step - loss: 0.0439 - accuracy: 0.9879 - val_loss: 0.0479 - val_accuracy: 0.9879\n",
            "\n",
            "Epoch 00005: val_accuracy improved from 0.98520 to 0.98788, saving model to /content/slot_filling_model-005--0.987881.h5\n",
            "Epoch 6/8\n",
            "61/61 [==============================] - 1s 18ms/step - loss: 0.0324 - accuracy: 0.9917 - val_loss: 0.0381 - val_accuracy: 0.9919\n",
            "\n",
            "Epoch 00006: val_accuracy improved from 0.98788 to 0.99186, saving model to /content/slot_filling_model-006--0.991863.h5\n",
            "Epoch 7/8\n",
            "61/61 [==============================] - 1s 18ms/step - loss: 0.0253 - accuracy: 0.9931 - val_loss: 0.0334 - val_accuracy: 0.9926\n",
            "\n",
            "Epoch 00007: val_accuracy improved from 0.99186 to 0.99264, saving model to /content/slot_filling_model-007--0.992642.h5\n",
            "Epoch 8/8\n",
            "61/61 [==============================] - 1s 18ms/step - loss: 0.0208 - accuracy: 0.9942 - val_loss: 0.0327 - val_accuracy: 0.9929\n",
            "\n",
            "Epoch 00008: val_accuracy improved from 0.99264 to 0.99290, saving model to /content/slot_filling_model-008--0.992902.h5\n"
          ]
        }
      ]
    },
    {
      "cell_type": "code",
      "metadata": {
        "id": "mJITqUP_gS-q"
      },
      "source": [
        "pred = slot_filling_model.predict(np.array(X_test))\n",
        "pred = pred.reshape(pred.shape[0]*pred.shape[1], pred.shape[2])\n",
        "predicted_tag = [np.argmax(elem) for elem in pred]"
      ],
      "execution_count": null,
      "outputs": []
    },
    {
      "cell_type": "code",
      "metadata": {
        "id": "_843rhx1g3vD"
      },
      "source": [
        "test_tag = nertags_test.reshape(nertags_test.shape[0]*nertags_test.shape[1])"
      ],
      "execution_count": null,
      "outputs": []
    },
    {
      "cell_type": "code",
      "metadata": {
        "id": "8fhFKLuhhWu9",
        "colab": {
          "base_uri": "https://localhost:8080/"
        },
        "outputId": "8c1fbb20-5921-4495-ad77-2fee8267149b"
      },
      "source": [
        "from sklearn.metrics import classification_report\n",
        "print(classification_report(predicted_tag, test_tag))"
      ],
      "execution_count": null,
      "outputs": [
        {
          "output_type": "stream",
          "name": "stdout",
          "text": [
            "              precision    recall  f1-score   support\n",
            "\n",
            "           0       1.00      0.99      1.00      9888\n",
            "           1       0.00      0.00      0.00         0\n",
            "           2       0.82      0.95      0.88        19\n",
            "           3       0.99      0.98      0.99       315\n",
            "           4       0.69      0.80      0.74        25\n",
            "           5       0.00      0.00      0.00         0\n",
            "           6       0.74      0.81      0.77        21\n",
            "           7       0.56      0.82      0.67        17\n",
            "           8       0.76      1.00      0.87        13\n",
            "           9       0.99      1.00      0.99       230\n",
            "          10       0.96      0.98      0.97       560\n",
            "\n",
            "    accuracy                           0.99     11088\n",
            "   macro avg       0.68      0.76      0.72     11088\n",
            "weighted avg       0.99      0.99      0.99     11088\n",
            "\n"
          ]
        },
        {
          "output_type": "stream",
          "name": "stderr",
          "text": [
            "/usr/local/lib/python3.7/dist-packages/sklearn/metrics/_classification.py:1272: UndefinedMetricWarning: Recall and F-score are ill-defined and being set to 0.0 in labels with no true samples. Use `zero_division` parameter to control this behavior.\n",
            "  _warn_prf(average, modifier, msg_start, len(result))\n"
          ]
        }
      ]
    },
    {
      "cell_type": "markdown",
      "metadata": {
        "id": "5lliwVNj5n6q"
      },
      "source": [
        "# **Question1-1**"
      ]
    },
    {
      "cell_type": "code",
      "metadata": {
        "id": "iZc7gd0yhqbL",
        "colab": {
          "base_uri": "https://localhost:8080/"
        },
        "outputId": "f13d9452-92ab-4588-a05b-deb093edd830"
      },
      "source": [
        "#Downlod data\n",
        "!gdown --id 1-ay5mBPEFuzHGZpDnBJIA5e_ONAIcvjW"
      ],
      "execution_count": null,
      "outputs": [
        {
          "output_type": "stream",
          "name": "stdout",
          "text": [
            "Downloading...\n",
            "From: https://drive.google.com/uc?id=1-ay5mBPEFuzHGZpDnBJIA5e_ONAIcvjW\n",
            "To: /content/slot-test.txt\n",
            "\r  0% 0.00/223 [00:00<?, ?B/s]\r100% 223/223 [00:00<00:00, 240kB/s]\n"
          ]
        }
      ]
    },
    {
      "cell_type": "code",
      "metadata": {
        "id": "mE06uxVVik_4"
      },
      "source": [
        "#Read data and tokenize and pad it\n",
        "sample_data = []\n",
        "with open('/content/slot-test.txt', 'r') as ptr:\n",
        "  for line in ptr:\n",
        "    sample_data.append(line)\n",
        "\n",
        "\n",
        "X_sample = tokenizer.texts_to_sequences(sample_data)\n",
        "X_sample = pad_sequences(X_sample, padding='post', maxlen=max_len)"
      ],
      "execution_count": null,
      "outputs": []
    },
    {
      "cell_type": "code",
      "metadata": {
        "id": "KID7-pw6jYoa"
      },
      "source": [
        "pred1 = slot_filling_model.predict(np.array(X_sample))\n",
        "pred1 = pred1.reshape(pred1.shape[0]*pred1.shape[1], pred1.shape[2])"
      ],
      "execution_count": null,
      "outputs": []
    },
    {
      "cell_type": "code",
      "metadata": {
        "id": "Glnrf_4ctN0h",
        "colab": {
          "base_uri": "https://localhost:8080/"
        },
        "outputId": "12b2c7d0-ce78-4d25-f950-bc989ce058a2"
      },
      "source": [
        "np.shape(pred1)"
      ],
      "execution_count": null,
      "outputs": [
        {
          "output_type": "execute_result",
          "data": {
            "text/plain": [
              "(40, 11)"
            ]
          },
          "metadata": {},
          "execution_count": 108
        }
      ]
    },
    {
      "cell_type": "code",
      "metadata": {
        "id": "qrFLt9HnoBKG"
      },
      "source": [
        "predicted_tag1 = [np.argmax(elem) for elem in pred1]"
      ],
      "execution_count": null,
      "outputs": []
    },
    {
      "cell_type": "code",
      "metadata": {
        "id": "YV5WOgOdsfIj",
        "colab": {
          "base_uri": "https://localhost:8080/"
        },
        "outputId": "d99bcbc7-880e-4d55-e420-baae644ddfa5"
      },
      "source": [
        "np.shape(predicted_tag1)"
      ],
      "execution_count": null,
      "outputs": [
        {
          "output_type": "execute_result",
          "data": {
            "text/plain": [
              "(40,)"
            ]
          },
          "metadata": {},
          "execution_count": 110
        }
      ]
    },
    {
      "cell_type": "markdown",
      "metadata": {
        "id": "HjIVy4HcdHit"
      },
      "source": [
        "### در این قسمت جملات موجود در دیتاست داده شده به همراه تگ‌هایی که به هر کلمه نسبت داده شده چاپ می‌گردد. توجه شود که جملات به طول 8 پد شده اند. بنابراین برای جملات با بیشتر از 8 کلمه، کلمات اضافی از اول جمله برداشته شده اند. در هنگام مطابقت دادن تگ‌ها با کلمات متناظر، به این موضوع توجه شود."
      ]
    },
    {
      "cell_type": "code",
      "metadata": {
        "id": "kE0w2AXdoGaR",
        "colab": {
          "base_uri": "https://localhost:8080/"
        },
        "outputId": "230a3f36-ca73-473e-e349-0d65e64cd1ac"
      },
      "source": [
        "for i in range(0,len(sample_data)):\n",
        "  labels=[]\n",
        "  for tag in predicted_tag1[8*i : 8*(i+1)]:\n",
        "    position = val_list.index(tag)\n",
        "    label = key_list[position]\n",
        "    labels.append(label)\n",
        "  print('SENTENCE:',sample_data[i],'\\n','NERTAGS:',labels)\n",
        "  print('\\n')"
      ],
      "execution_count": null,
      "outputs": [
        {
          "output_type": "stream",
          "name": "stdout",
          "text": [
            "SENTENCE: cheap restaurant\n",
            " \n",
            " NERTAGS: ['B-pricerange', 'O', 'O', 'O', 'O', 'O', 'O', 'O']\n",
            "\n",
            "\n",
            "SENTENCE: im looking for a cheap restaurant in the south part of town\n",
            " \n",
            " NERTAGS: ['B-pricerange', 'O', 'O', 'O', 'B-area', 'O', 'O', 'O']\n",
            "\n",
            "\n",
            "SENTENCE: i want a restaurant in the north part of town\n",
            " \n",
            " NERTAGS: ['O', 'O', 'O', 'O', 'B-area', 'O', 'O', 'O']\n",
            "\n",
            "\n",
            "SENTENCE: what is the address and phone number\n",
            " \n",
            " NERTAGS: ['O', 'O', 'O', 'O', 'O', 'O', 'O', 'O']\n",
            "\n",
            "\n",
            "SENTENCE: i got to find a cheap restaurant that serves mexican food\n",
            " \n",
            " NERTAGS: ['O', 'O', 'B-pricerange', 'O', 'O', 'O', 'B-food', 'O']\n",
            "\n",
            "\n"
          ]
        }
      ]
    },
    {
      "cell_type": "markdown",
      "metadata": {
        "id": "fwm5M0V1hwqG"
      },
      "source": [
        "# **Question2**\n",
        "\n",
        "## در این مرحله ابتدا دنباله‌ی اینتنت ها را به ساختار مناسبی در اورده تا بتوان از آن ها به عنوان تارگت شبکه استفاده نمود."
      ]
    },
    {
      "cell_type": "code",
      "metadata": {
        "id": "30Eld-09zTGm"
      },
      "source": [
        "total_intents = intents_train + intents_valid + intents_test\n",
        "unique_intents = []\n",
        "for intents in total_intents:\n",
        "  for intent in intents:\n",
        "    unique_intents.append(intent)\n",
        "\n",
        "unique_intents = set(unique_intents)"
      ],
      "execution_count": null,
      "outputs": []
    },
    {
      "cell_type": "code",
      "metadata": {
        "id": "T27XbiljzwfG"
      },
      "source": [
        "n_ints = len(unique_intents)"
      ],
      "execution_count": null,
      "outputs": []
    },
    {
      "cell_type": "code",
      "metadata": {
        "id": "tfm9Va4gQUC3",
        "colab": {
          "base_uri": "https://localhost:8080/"
        },
        "outputId": "4a2f657d-9dc3-4653-ae6e-53af180bcda7"
      },
      "source": [
        "unique_intents"
      ],
      "execution_count": null,
      "outputs": [
        {
          "output_type": "execute_result",
          "data": {
            "text/plain": [
              "{'ack',\n",
              " 'affirm',\n",
              " 'bye',\n",
              " 'confirm_area',\n",
              " 'confirm_food',\n",
              " 'confirm_pricerange',\n",
              " 'deny_food',\n",
              " 'deny_name',\n",
              " 'hello',\n",
              " 'inform_area',\n",
              " 'inform_food',\n",
              " 'inform_name',\n",
              " 'inform_pricerange',\n",
              " 'inform_this',\n",
              " 'negate',\n",
              " 'repeat',\n",
              " 'reqalts',\n",
              " 'reqmore',\n",
              " 'request_addr',\n",
              " 'request_area',\n",
              " 'request_food',\n",
              " 'request_name',\n",
              " 'request_phone',\n",
              " 'request_postcode',\n",
              " 'request_pricerange',\n",
              " 'request_signature',\n",
              " 'restart',\n",
              " 'thankyou',\n",
              " 'unknown'}"
            ]
          },
          "metadata": {},
          "execution_count": 114
        }
      ]
    },
    {
      "cell_type": "code",
      "metadata": {
        "id": "b9uXV9Vm0Dut",
        "colab": {
          "base_uri": "https://localhost:8080/"
        },
        "outputId": "eea7f476-aeac-4bf5-bf2b-cfa837f5b3a9"
      },
      "source": [
        "n_ints"
      ],
      "execution_count": null,
      "outputs": [
        {
          "output_type": "execute_result",
          "data": {
            "text/plain": [
              "29"
            ]
          },
          "metadata": {},
          "execution_count": 115
        }
      ]
    },
    {
      "cell_type": "code",
      "metadata": {
        "id": "acVRUNgvz4E1"
      },
      "source": [
        "intents2index = {t:i for i,t in enumerate(unique_intents)}"
      ],
      "execution_count": null,
      "outputs": []
    },
    {
      "cell_type": "code",
      "metadata": {
        "id": "JO3-HU5A0C-1",
        "colab": {
          "base_uri": "https://localhost:8080/"
        },
        "outputId": "4ceb1cf5-10dc-4590-9984-9e257f64ab92"
      },
      "source": [
        "intents2index"
      ],
      "execution_count": null,
      "outputs": [
        {
          "output_type": "execute_result",
          "data": {
            "text/plain": [
              "{'ack': 8,\n",
              " 'affirm': 16,\n",
              " 'bye': 18,\n",
              " 'confirm_area': 5,\n",
              " 'confirm_food': 3,\n",
              " 'confirm_pricerange': 10,\n",
              " 'deny_food': 0,\n",
              " 'deny_name': 27,\n",
              " 'hello': 9,\n",
              " 'inform_area': 12,\n",
              " 'inform_food': 1,\n",
              " 'inform_name': 23,\n",
              " 'inform_pricerange': 21,\n",
              " 'inform_this': 6,\n",
              " 'negate': 7,\n",
              " 'repeat': 17,\n",
              " 'reqalts': 11,\n",
              " 'reqmore': 26,\n",
              " 'request_addr': 20,\n",
              " 'request_area': 14,\n",
              " 'request_food': 13,\n",
              " 'request_name': 28,\n",
              " 'request_phone': 24,\n",
              " 'request_postcode': 25,\n",
              " 'request_pricerange': 22,\n",
              " 'request_signature': 4,\n",
              " 'restart': 15,\n",
              " 'thankyou': 2,\n",
              " 'unknown': 19}"
            ]
          },
          "metadata": {},
          "execution_count": 117
        }
      ]
    },
    {
      "cell_type": "code",
      "metadata": {
        "id": "seu7BzGI0BuN"
      },
      "source": [
        "intent_key_list = list(intents2index.keys())\n",
        "intent_val_list = list(intents2index.values())"
      ],
      "execution_count": null,
      "outputs": []
    },
    {
      "cell_type": "code",
      "metadata": {
        "id": "VMZYM9aLRvnR"
      },
      "source": [
        "import numpy as np\n",
        "\n",
        "def get_labels (seq_ints):\n",
        "  y = np.zeros((len(seq_ints),len(intents2index)))\n",
        "\n",
        "  for i,intents in enumerate(seq_ints):\n",
        "    for intent in intents:\n",
        "      y[i][intents2index[intent]]=1\n",
        "  return y\n"
      ],
      "execution_count": null,
      "outputs": []
    },
    {
      "cell_type": "code",
      "metadata": {
        "id": "TRJtILpIUtfz"
      },
      "source": [
        "train_labels = get_labels(intents_train)\n",
        "valid_labels = get_labels(intents_valid)\n",
        "test_labels = get_labels(intents_test)"
      ],
      "execution_count": null,
      "outputs": []
    },
    {
      "cell_type": "code",
      "metadata": {
        "id": "fICrqCs3XJBQ",
        "colab": {
          "base_uri": "https://localhost:8080/"
        },
        "outputId": "42be5804-afc3-4775-b694-6985081c312c"
      },
      "source": [
        "intents_train[5] , train_labels[5]"
      ],
      "execution_count": null,
      "outputs": [
        {
          "output_type": "execute_result",
          "data": {
            "text/plain": [
              "(['thankyou', 'bye'],\n",
              " array([0., 0., 1., 0., 0., 0., 0., 0., 0., 0., 0., 0., 0., 0., 0., 0., 0.,\n",
              "        0., 1., 0., 0., 0., 0., 0., 0., 0., 0., 0., 0.]))"
            ]
          },
          "metadata": {},
          "execution_count": 121
        }
      ]
    },
    {
      "cell_type": "code",
      "metadata": {
        "id": "nfmI2q1hXWPK"
      },
      "source": [
        "#Define model\n",
        "\n",
        "from tensorflow.keras.models import Sequential\n",
        "\n",
        "from tensorflow.keras.layers import LSTM, Embedding, Dense, TimeDistributed, Dropout, Bidirectional, GRU\n",
        "\n",
        "embedding_dim = 100\n",
        "\n",
        "intent_detect_model = Sequential()\n",
        "intent_detect_model.add(Embedding(input_dim=vocab_size, \n",
        "                           output_dim=embedding_dim, \n",
        "                           input_length=max_len,\n",
        "                           trainable=True))\n",
        "\n",
        "intent_detect_model.add(Bidirectional(GRU(300, dropout=0.2,  return_sequences=False)))\n",
        "intent_detect_model.add(Dense(29, activation=\"sigmoid\"))"
      ],
      "execution_count": null,
      "outputs": []
    },
    {
      "cell_type": "code",
      "metadata": {
        "id": "DyYf1cJFYU4W"
      },
      "source": [
        "\n",
        "intent_detect_model.compile(optimizer=\"adam\", loss=\"binary_crossentropy\", metrics=['accuracy'])"
      ],
      "execution_count": null,
      "outputs": []
    },
    {
      "cell_type": "code",
      "metadata": {
        "id": "PfHVEVRLYwdb",
        "colab": {
          "base_uri": "https://localhost:8080/"
        },
        "outputId": "19a89da9-93dd-45e7-b315-b0ca6a1c47e3"
      },
      "source": [
        "from tensorflow.keras.callbacks import ModelCheckpoint\n",
        "\n",
        "# define checkpoint\n",
        "checkpoint_2 = ModelCheckpoint('/content/intent_detect_model-{epoch:03d}--{val_accuracy:03f}.h5', verbose=1, monitor='val_accuracy',save_best_only=True, \n",
        "                             save_weights_only=True, mode='max') \n",
        "\n",
        "batch_size = 32\n",
        "import numpy as np\n",
        "\n",
        "history2 = intent_detect_model.fit(np.array(X_train), train_labels, validation_data=(np.array(X_valid), valid_labels),\n",
        "                    batch_size=batch_size, epochs=30, verbose=1, callbacks=[checkpoint_2])"
      ],
      "execution_count": null,
      "outputs": [
        {
          "output_type": "stream",
          "name": "stdout",
          "text": [
            "Epoch 1/30\n",
            "61/61 [==============================] - 6s 31ms/step - loss: 0.2400 - accuracy: 0.3238 - val_loss: 0.1385 - val_accuracy: 0.4010\n",
            "\n",
            "Epoch 00001: val_accuracy improved from -inf to 0.40097, saving model to /content/intent_detect_model-001--0.400970.h5\n",
            "Epoch 2/30\n",
            "61/61 [==============================] - 1s 18ms/step - loss: 0.1286 - accuracy: 0.4066 - val_loss: 0.1132 - val_accuracy: 0.4536\n",
            "\n",
            "Epoch 00002: val_accuracy improved from 0.40097 to 0.45360, saving model to /content/intent_detect_model-002--0.453601.h5\n",
            "Epoch 3/30\n",
            "61/61 [==============================] - 1s 17ms/step - loss: 0.0975 - accuracy: 0.4925 - val_loss: 0.0871 - val_accuracy: 0.5166\n",
            "\n",
            "Epoch 00003: val_accuracy improved from 0.45360 to 0.51662, saving model to /content/intent_detect_model-003--0.516621.h5\n",
            "Epoch 4/30\n",
            "61/61 [==============================] - 1s 18ms/step - loss: 0.0750 - accuracy: 0.5758 - val_loss: 0.0679 - val_accuracy: 0.5554\n",
            "\n",
            "Epoch 00004: val_accuracy improved from 0.51662 to 0.55540, saving model to /content/intent_detect_model-004--0.555402.h5\n",
            "Epoch 5/30\n",
            "61/61 [==============================] - 1s 18ms/step - loss: 0.0555 - accuracy: 0.6446 - val_loss: 0.0542 - val_accuracy: 0.6482\n",
            "\n",
            "Epoch 00005: val_accuracy improved from 0.55540 to 0.64820, saving model to /content/intent_detect_model-005--0.648199.h5\n",
            "Epoch 6/30\n",
            "61/61 [==============================] - 1s 18ms/step - loss: 0.0444 - accuracy: 0.7025 - val_loss: 0.0489 - val_accuracy: 0.7022\n",
            "\n",
            "Epoch 00006: val_accuracy improved from 0.64820 to 0.70222, saving model to /content/intent_detect_model-006--0.702216.h5\n",
            "Epoch 7/30\n",
            "61/61 [==============================] - 1s 18ms/step - loss: 0.0371 - accuracy: 0.7325 - val_loss: 0.0416 - val_accuracy: 0.7812\n",
            "\n",
            "Epoch 00007: val_accuracy improved from 0.70222 to 0.78116, saving model to /content/intent_detect_model-007--0.781163.h5\n",
            "Epoch 8/30\n",
            "61/61 [==============================] - 1s 18ms/step - loss: 0.0313 - accuracy: 0.7501 - val_loss: 0.0384 - val_accuracy: 0.7867\n",
            "\n",
            "Epoch 00008: val_accuracy improved from 0.78116 to 0.78670, saving model to /content/intent_detect_model-008--0.786704.h5\n",
            "Epoch 9/30\n",
            "61/61 [==============================] - 1s 17ms/step - loss: 0.0261 - accuracy: 0.7869 - val_loss: 0.0347 - val_accuracy: 0.7438\n",
            "\n",
            "Epoch 00009: val_accuracy did not improve from 0.78670\n",
            "Epoch 10/30\n",
            "61/61 [==============================] - 1s 18ms/step - loss: 0.0221 - accuracy: 0.7853 - val_loss: 0.0326 - val_accuracy: 0.7597\n",
            "\n",
            "Epoch 00010: val_accuracy did not improve from 0.78670\n",
            "Epoch 11/30\n",
            "61/61 [==============================] - 1s 18ms/step - loss: 0.0195 - accuracy: 0.7812 - val_loss: 0.0319 - val_accuracy: 0.7978\n",
            "\n",
            "Epoch 00011: val_accuracy improved from 0.78670 to 0.79778, saving model to /content/intent_detect_model-011--0.797784.h5\n",
            "Epoch 12/30\n",
            "61/61 [==============================] - 1s 18ms/step - loss: 0.0164 - accuracy: 0.7915 - val_loss: 0.0297 - val_accuracy: 0.7978\n",
            "\n",
            "Epoch 00012: val_accuracy did not improve from 0.79778\n",
            "Epoch 13/30\n",
            "61/61 [==============================] - 1s 17ms/step - loss: 0.0152 - accuracy: 0.8101 - val_loss: 0.0331 - val_accuracy: 0.7223\n",
            "\n",
            "Epoch 00013: val_accuracy did not improve from 0.79778\n",
            "Epoch 14/30\n",
            "61/61 [==============================] - 1s 18ms/step - loss: 0.0144 - accuracy: 0.7941 - val_loss: 0.0283 - val_accuracy: 0.7874\n",
            "\n",
            "Epoch 00014: val_accuracy did not improve from 0.79778\n",
            "Epoch 15/30\n",
            "61/61 [==============================] - 1s 18ms/step - loss: 0.0127 - accuracy: 0.8034 - val_loss: 0.0294 - val_accuracy: 0.7715\n",
            "\n",
            "Epoch 00015: val_accuracy did not improve from 0.79778\n",
            "Epoch 16/30\n",
            "61/61 [==============================] - 1s 18ms/step - loss: 0.0124 - accuracy: 0.7900 - val_loss: 0.0283 - val_accuracy: 0.7188\n",
            "\n",
            "Epoch 00016: val_accuracy did not improve from 0.79778\n",
            "Epoch 17/30\n",
            "61/61 [==============================] - 1s 18ms/step - loss: 0.0112 - accuracy: 0.7729 - val_loss: 0.0274 - val_accuracy: 0.7639\n",
            "\n",
            "Epoch 00017: val_accuracy did not improve from 0.79778\n",
            "Epoch 18/30\n",
            "61/61 [==============================] - 1s 18ms/step - loss: 0.0095 - accuracy: 0.7926 - val_loss: 0.0281 - val_accuracy: 0.7452\n",
            "\n",
            "Epoch 00018: val_accuracy did not improve from 0.79778\n",
            "Epoch 19/30\n",
            "61/61 [==============================] - 1s 18ms/step - loss: 0.0091 - accuracy: 0.7646 - val_loss: 0.0290 - val_accuracy: 0.7735\n",
            "\n",
            "Epoch 00019: val_accuracy did not improve from 0.79778\n",
            "Epoch 20/30\n",
            "61/61 [==============================] - 1s 18ms/step - loss: 0.0085 - accuracy: 0.7889 - val_loss: 0.0281 - val_accuracy: 0.7618\n",
            "\n",
            "Epoch 00020: val_accuracy did not improve from 0.79778\n",
            "Epoch 21/30\n",
            "61/61 [==============================] - 1s 17ms/step - loss: 0.0073 - accuracy: 0.7672 - val_loss: 0.0293 - val_accuracy: 0.7902\n",
            "\n",
            "Epoch 00021: val_accuracy did not improve from 0.79778\n",
            "Epoch 22/30\n",
            "61/61 [==============================] - 1s 18ms/step - loss: 0.0070 - accuracy: 0.7708 - val_loss: 0.0281 - val_accuracy: 0.7798\n",
            "\n",
            "Epoch 00022: val_accuracy did not improve from 0.79778\n",
            "Epoch 23/30\n",
            "61/61 [==============================] - 1s 18ms/step - loss: 0.0063 - accuracy: 0.7765 - val_loss: 0.0298 - val_accuracy: 0.7500\n",
            "\n",
            "Epoch 00023: val_accuracy did not improve from 0.79778\n",
            "Epoch 24/30\n",
            "61/61 [==============================] - 1s 18ms/step - loss: 0.0065 - accuracy: 0.7750 - val_loss: 0.0302 - val_accuracy: 0.7403\n",
            "\n",
            "Epoch 00024: val_accuracy did not improve from 0.79778\n",
            "Epoch 25/30\n",
            "61/61 [==============================] - 1s 18ms/step - loss: 0.0055 - accuracy: 0.7926 - val_loss: 0.0320 - val_accuracy: 0.7244\n",
            "\n",
            "Epoch 00025: val_accuracy did not improve from 0.79778\n",
            "Epoch 26/30\n",
            "61/61 [==============================] - 1s 18ms/step - loss: 0.0056 - accuracy: 0.7770 - val_loss: 0.0310 - val_accuracy: 0.7825\n",
            "\n",
            "Epoch 00026: val_accuracy did not improve from 0.79778\n",
            "Epoch 27/30\n",
            "61/61 [==============================] - 1s 20ms/step - loss: 0.0057 - accuracy: 0.7574 - val_loss: 0.0296 - val_accuracy: 0.8054\n",
            "\n",
            "Epoch 00027: val_accuracy improved from 0.79778 to 0.80540, saving model to /content/intent_detect_model-027--0.805402.h5\n",
            "Epoch 28/30\n",
            "61/61 [==============================] - 1s 18ms/step - loss: 0.0049 - accuracy: 0.7848 - val_loss: 0.0294 - val_accuracy: 0.7528\n",
            "\n",
            "Epoch 00028: val_accuracy did not improve from 0.80540\n",
            "Epoch 29/30\n",
            "61/61 [==============================] - 1s 18ms/step - loss: 0.0044 - accuracy: 0.7755 - val_loss: 0.0306 - val_accuracy: 0.7742\n",
            "\n",
            "Epoch 00029: val_accuracy did not improve from 0.80540\n",
            "Epoch 30/30\n",
            "61/61 [==============================] - 1s 18ms/step - loss: 0.0042 - accuracy: 0.7579 - val_loss: 0.0324 - val_accuracy: 0.7902\n",
            "\n",
            "Epoch 00030: val_accuracy did not improve from 0.80540\n"
          ]
        }
      ]
    },
    {
      "cell_type": "code",
      "metadata": {
        "id": "wCUMnIl8bD9N"
      },
      "source": [
        "pred2 = intent_detect_model.predict(np.array(X_test))"
      ],
      "execution_count": null,
      "outputs": []
    },
    {
      "cell_type": "markdown",
      "metadata": {
        "id": "YEADwl5Kbpe6"
      },
      "source": [
        "## در این سلول احتمالات هر کدام از درایه‌های داخل پردیکشن را چک کرده و در صورتی که بالاتر از مقدار آستانه باشد، به آن اندیس یک و در غیر اینصورت به آن اندیس صفر داده میشود. به اینصورت میتوان دقت و دیگر معیارها را محاسبه نمود."
      ]
    },
    {
      "cell_type": "code",
      "metadata": {
        "id": "fV8Lbwa3hSpw"
      },
      "source": [
        "predicted_labels=np.zeros(pred2.shape)\n",
        "threshold = 0.05\n",
        "for i,preds in enumerate(pred2):\n",
        "  for j,pred in enumerate(preds):\n",
        "    if pred>= threshold:\n",
        "      predicted_labels[i][j]=1\n"
      ],
      "execution_count": null,
      "outputs": []
    },
    {
      "cell_type": "code",
      "metadata": {
        "id": "vk6WdXCpopjX",
        "colab": {
          "base_uri": "https://localhost:8080/"
        },
        "outputId": "a606e08c-b239-4423-c9ec-5483867abb1e"
      },
      "source": [
        "from sklearn.metrics import classification_report\n",
        "print(classification_report(predicted_labels, test_labels))"
      ],
      "execution_count": null,
      "outputs": [
        {
          "output_type": "stream",
          "name": "stdout",
          "text": [
            "              precision    recall  f1-score   support\n",
            "\n",
            "           0       0.00      0.00      0.00         2\n",
            "           1       0.96      0.93      0.94       552\n",
            "           2       1.00      0.47      0.64        59\n",
            "           3       1.00      0.47      0.64        40\n",
            "           4       0.00      0.00      0.00         0\n",
            "           5       1.00      0.33      0.50         6\n",
            "           6       0.70      0.68      0.69        31\n",
            "           7       0.75      0.78      0.77        23\n",
            "           8       0.25      0.14      0.18         7\n",
            "           9       0.53      0.73      0.62        11\n",
            "          10       1.00      0.83      0.91         6\n",
            "          11       0.90      0.72      0.80       145\n",
            "          12       0.97      0.98      0.98       312\n",
            "          13       0.93      0.88      0.90        43\n",
            "          14       0.92      0.71      0.80        34\n",
            "          15       0.00      0.00      0.00         1\n",
            "          16       0.65      0.71      0.68        34\n",
            "          17       0.62      0.33      0.43        15\n",
            "          18       1.00      0.78      0.88        51\n",
            "          19       0.92      0.65      0.76       139\n",
            "          20       0.98      0.97      0.97       122\n",
            "          21       1.00      0.98      0.99       262\n",
            "          22       1.00      0.93      0.97        30\n",
            "          23       0.00      0.00      0.00         2\n",
            "          24       1.00      0.99      1.00       121\n",
            "          25       1.00      0.97      0.99        38\n",
            "          26       0.00      0.00      0.00         0\n",
            "          27       0.00      0.00      0.00         0\n",
            "          28       0.00      0.00      0.00         0\n",
            "\n",
            "   micro avg       0.94      0.87      0.90      2086\n",
            "   macro avg       0.66      0.55      0.59      2086\n",
            "weighted avg       0.95      0.87      0.90      2086\n",
            " samples avg       0.94      0.89      0.91      2086\n",
            "\n"
          ]
        },
        {
          "output_type": "stream",
          "name": "stderr",
          "text": [
            "/usr/local/lib/python3.7/dist-packages/sklearn/metrics/_classification.py:1272: UndefinedMetricWarning: Precision and F-score are ill-defined and being set to 0.0 in labels with no predicted samples. Use `zero_division` parameter to control this behavior.\n",
            "  _warn_prf(average, modifier, msg_start, len(result))\n",
            "/usr/local/lib/python3.7/dist-packages/sklearn/metrics/_classification.py:1272: UndefinedMetricWarning: Recall and F-score are ill-defined and being set to 0.0 in labels with no true samples. Use `zero_division` parameter to control this behavior.\n",
            "  _warn_prf(average, modifier, msg_start, len(result))\n",
            "/usr/local/lib/python3.7/dist-packages/sklearn/metrics/_classification.py:1272: UndefinedMetricWarning: Recall and F-score are ill-defined and being set to 0.0 in samples with no true labels. Use `zero_division` parameter to control this behavior.\n",
            "  _warn_prf(average, modifier, msg_start, len(result))\n"
          ]
        }
      ]
    },
    {
      "cell_type": "markdown",
      "metadata": {
        "id": "DKrCB-yepQSE"
      },
      "source": [
        "# **Q2-1**"
      ]
    },
    {
      "cell_type": "code",
      "metadata": {
        "id": "kntbnWRTpPL_",
        "colab": {
          "base_uri": "https://localhost:8080/"
        },
        "outputId": "0b00063a-adaa-42d2-e549-ff5b2ef6193c"
      },
      "source": [
        "#download data\n",
        "!gdown --id 101uOTEhpm7t3Y4iIPpA_isGUHGKXafsA"
      ],
      "execution_count": null,
      "outputs": [
        {
          "output_type": "stream",
          "name": "stdout",
          "text": [
            "Downloading...\n",
            "From: https://drive.google.com/uc?id=101uOTEhpm7t3Y4iIPpA_isGUHGKXafsA\n",
            "To: /content/intent-test.txt\n",
            "\r  0% 0.00/249 [00:00<?, ?B/s]\r100% 249/249 [00:00<00:00, 442kB/s]\n"
          ]
        }
      ]
    },
    {
      "cell_type": "code",
      "metadata": {
        "id": "Ggd09vOrpX5o"
      },
      "source": [
        "#read data and tokenize and pad it\n",
        "sample_data2 = []\n",
        "with open('/content/intent-test.txt', 'r') as ptr:\n",
        "  for line in ptr:\n",
        "    sample_data2.append(line)\n",
        "\n",
        "X_sample2 = tokenizer.texts_to_sequences(sample_data)\n",
        "X_sample2 = pad_sequences(X_sample2, padding='post', maxlen=max_len)"
      ],
      "execution_count": null,
      "outputs": []
    },
    {
      "cell_type": "code",
      "metadata": {
        "id": "iiAF_p1KqAp4"
      },
      "source": [
        "pred3 = intent_detect_model.predict(np.array(X_sample2))"
      ],
      "execution_count": null,
      "outputs": []
    },
    {
      "cell_type": "code",
      "metadata": {
        "id": "3DwthmyoqdJx"
      },
      "source": [
        "sample_predicted_labels=np.zeros(pred3.shape)\n",
        "for i,preds in enumerate(pred3):\n",
        "  for j,pred in enumerate(preds):\n",
        "    if pred>= threshold:\n",
        "      sample_predicted_labels[i][j]=1\n"
      ],
      "execution_count": null,
      "outputs": []
    },
    {
      "cell_type": "code",
      "metadata": {
        "id": "ZwkTML1kqqtM",
        "colab": {
          "base_uri": "https://localhost:8080/"
        },
        "outputId": "a89d5641-4b19-4e64-feef-6cbd3411c876"
      },
      "source": [
        "for i in range(0,len(X_sample2)):\n",
        "  prdiction = sample_predicted_labels[i]\n",
        "  \n",
        "  intnts=[]\n",
        "  for j,intnt in enumerate(prdiction):\n",
        "    \n",
        "    if intnt==1:\n",
        "\n",
        "      position2 = intent_val_list.index(j)\n",
        "      intent = intent_key_list[position2]\n",
        "      intnts.append(intent)\n",
        "\n",
        "  print(sample_data2[i],'\\n','Predicted_intent:',intnts)\n",
        "  print('\\n')\n"
      ],
      "execution_count": null,
      "outputs": [
        {
          "output_type": "stream",
          "name": "stdout",
          "text": [
            "is it in the cheap price range\n",
            " \n",
            " Predicted_intent: ['inform_pricerange']\n",
            "\n",
            "\n",
            "is there a cheap restaurant that serves vietnamese food\n",
            " \n",
            " Predicted_intent: ['inform_area', 'inform_pricerange']\n",
            "\n",
            "\n",
            "can i please have their phone number\n",
            " \n",
            " Predicted_intent: ['inform_area']\n",
            "\n",
            "\n",
            "no thank you good bye\n",
            " \n",
            " Predicted_intent: ['request_addr', 'request_phone']\n",
            "\n",
            "\n",
            "i am looking for an expensive restaurant that serves australian food\n",
            " \n",
            " Predicted_intent: ['inform_food', 'inform_pricerange']\n",
            "\n",
            "\n"
          ]
        }
      ]
    },
    {
      "cell_type": "markdown",
      "metadata": {
        "id": "gmNfEJVHJBJ4"
      },
      "source": [
        "# **Question3-ب**"
      ]
    },
    {
      "cell_type": "code",
      "metadata": {
        "id": "OCuI4jFNJEQ0"
      },
      "source": [
        "# get resturanets information from simple-dstc2 files\n",
        "import json\n",
        "\n",
        "resturaenets = []\n",
        "rest_names=[]\n",
        "f1 = open ('/content/data_folder/simple-dstc2-trn.json', \"r\")\n",
        "data1 = json.loads(f1.read())\n",
        "\n",
        "for dialogues in data1:\n",
        "  for dialogue in dialogues:\n",
        "    if \"db_result\" in dialogue.keys():\n",
        "      if \"name\" in dialogue['db_result'].keys():\n",
        "\n",
        "        resturaenets.append(dialogue['db_result'])\n",
        "        rest_names.append(dialogue['db_result'][\"name\"])\n",
        "\n",
        "f2 = open ('/content/data_folder/simple-dstc2-val.json', \"r\")\n",
        "data2 = json.loads(f2.read())\n",
        "\n",
        "for dialogues in data2:\n",
        "  for dialogue in dialogues:\n",
        "    if \"db_result\" in dialogue.keys():\n",
        "      if \"name\" in dialogue['db_result'].keys():\n",
        "\n",
        "        resturaenets.append(dialogue['db_result'])\n",
        "        rest_names.append(dialogue['db_result'][\"name\"])\n",
        "\n",
        "f3 = open ('/content/data_folder/simple-dstc2-tst.json', \"r\")\n",
        "data3 = json.loads(f3.read())\n",
        "\n",
        "for dialogues in data3:\n",
        "  for dialogue in dialogues:\n",
        "    if \"db_result\" in dialogue.keys():\n",
        "      if \"name\" in dialogue['db_result'].keys():\n",
        "       \n",
        "        resturaenets.append(dialogue['db_result'])\n",
        "        rest_names.append(dialogue['db_result'][\"name\"])"
      ],
      "execution_count": null,
      "outputs": []
    },
    {
      "cell_type": "markdown",
      "metadata": {
        "id": "g7rRkD8W13en"
      },
      "source": [
        "## در سلول زیر ابتدا چک میشود که کدام رستوران ها همه ی اطلاعاتشان موجود نیست. سپس بررسی میشود در صورت وجود رستوران دیگری با همان نام، اطلاعاتشان با هم به اشتراک گذاشته شود تا در صورت امکان فیلدهای خالی پر شوند. و در نهایت اگر باز هم فیلد خالی در اطلاعات هر رستوران وجود داشته باشد، با گزینه‌ی \"مهم نیست\" پر شود."
      ]
    },
    {
      "cell_type": "code",
      "metadata": {
        "id": "LiEmeZRwKK-T"
      },
      "source": [
        "\n",
        "\n",
        "rests = []\n",
        "for rest1 in resturaenets:\n",
        "  if not (len(rest1.keys())==7):\n",
        "    name = rest1['name']\n",
        "\n",
        "    for rest2 in resturaenets:\n",
        "      if rest2['name']==name:\n",
        "\n",
        "        rest1.update(rest2)\n",
        "    \n",
        "    if not ('food' in rest1.keys()):\n",
        "      rest1['food'] = 'dontcare'\n",
        "\n",
        "    if not ('area' in rest1.keys()):\n",
        "      rest1['area'] = 'dontcare'\n",
        "\n",
        "    if not ('pricerange' in rest1.keys()):\n",
        "      rest1['pricerange'] = 'dontcare'\n",
        "\n",
        "    if not ('phone' in rest1.keys()):\n",
        "      rest1['phone'] = 'dontcare'\n",
        "\n",
        "    if not ('addr' in rest1.keys()):\n",
        "      rest1['addr'] = 'dontcare'\n",
        "\n",
        "    if not ('postcode' in rest1.keys()):\n",
        "      rest1['postcode'] = 'dontcare'\n"
      ],
      "execution_count": null,
      "outputs": []
    },
    {
      "cell_type": "code",
      "metadata": {
        "id": "iKASe3GK2dvj"
      },
      "source": [
        "# get uniqe resturanets\n",
        "uniqe_resturanets = []\n",
        "rest_names = []\n",
        "\n",
        "for rest in resturaenets:\n",
        "  if not (rest['name'] in rest_names):\n",
        "    uniqe_resturanets.append(rest)\n",
        "    rest_names.append(rest['name'])"
      ],
      "execution_count": null,
      "outputs": []
    },
    {
      "cell_type": "code",
      "metadata": {
        "id": "ZWUwmKPTsmNZ"
      },
      "source": [
        "# sort resturanets in alphabetical order\n",
        "\n",
        "from operator import itemgetter\n",
        "newlist = sorted(uniqe_resturanets, key=itemgetter('name')) \n"
      ],
      "execution_count": null,
      "outputs": []
    },
    {
      "cell_type": "code",
      "metadata": {
        "id": "zqZoeQVPlRNE"
      },
      "source": [
        "#sort each dictionary of resturanets in specific order (as mentioned in the question)\n",
        "\n",
        "import collections\n",
        "\n",
        "resturanets = []\n",
        "first_char ={}\n",
        "for i,elem in enumerate(newlist):\n",
        "  resturanet = collections.OrderedDict()\n",
        "  resturanet['name']=elem['name']\n",
        "  first_char[elem['name']]=i\n",
        "\n",
        "  resturanet['food']=elem['food']\n",
        "  resturanet['area']=elem['area']\n",
        "  resturanet['pricerange']=elem['pricerange']\n",
        "  resturanet['phone']=elem['phone']\n",
        "  resturanet['addr']=elem['addr']\n",
        "  resturanet['postcode']=elem['postcode']\n",
        "  resturanets.append(resturanet)"
      ],
      "execution_count": null,
      "outputs": []
    },
    {
      "cell_type": "code",
      "metadata": {
        "id": "cWnV4Hc_tFcA",
        "colab": {
          "base_uri": "https://localhost:8080/"
        },
        "outputId": "32328301-912a-4a1b-f24a-b3a0559f490e"
      },
      "source": [
        "len(resturanets)"
      ],
      "execution_count": null,
      "outputs": [
        {
          "output_type": "execute_result",
          "data": {
            "text/plain": [
              "109"
            ]
          },
          "metadata": {},
          "execution_count": 138
        }
      ]
    },
    {
      "cell_type": "code",
      "metadata": {
        "id": "h0GqtPSLtP0h",
        "colab": {
          "base_uri": "https://localhost:8080/"
        },
        "outputId": "849b9f69-03c1-46c9-8048-e8dbc9dc64e4"
      },
      "source": [
        "resturanets"
      ],
      "execution_count": null,
      "outputs": [
        {
          "output_type": "execute_result",
          "data": {
            "text/plain": [
              "[OrderedDict([('name', 'ali baba'),\n",
              "              ('food', 'lebanese'),\n",
              "              ('area', 'centre'),\n",
              "              ('pricerange', 'moderate'),\n",
              "              ('phone', '01462 432565'),\n",
              "              ('addr', '59 hills road city centre'),\n",
              "              ('postcode', 'c.b 2, 1 n.t')]),\n",
              " OrderedDict([('name', 'anatolia'),\n",
              "              ('food', 'turkish'),\n",
              "              ('area', 'centre'),\n",
              "              ('pricerange', 'moderate'),\n",
              "              ('phone', '01223 362372'),\n",
              "              ('addr', '30 bridge street city centre'),\n",
              "              ('postcode', 'c.b 2, 1 u.j')]),\n",
              " OrderedDict([('name', 'ask'),\n",
              "              ('food', 'italian'),\n",
              "              ('area', 'centre'),\n",
              "              ('pricerange', 'cheap'),\n",
              "              ('phone', '01223 364917'),\n",
              "              ('addr', '12 bridge street city centre'),\n",
              "              ('postcode', 'c.b 2, 1 u.f')]),\n",
              " OrderedDict([('name', 'backstreet bistro'),\n",
              "              ('food', 'gastropub'),\n",
              "              ('area', 'dontcare'),\n",
              "              ('pricerange', 'expensive'),\n",
              "              ('phone', '01223 306306'),\n",
              "              ('addr', '2 sturton street city centre'),\n",
              "              ('postcode', 'c.b 1, 2 q.a')]),\n",
              " OrderedDict([('name', 'bangkok city'),\n",
              "              ('food', 'thai'),\n",
              "              ('area', 'centre'),\n",
              "              ('pricerange', 'expensive'),\n",
              "              ('phone', '01223 354382'),\n",
              "              ('addr', '24 green street city centre'),\n",
              "              ('postcode', 'dontcare')]),\n",
              " OrderedDict([('name', 'bedouin'),\n",
              "              ('food', 'african'),\n",
              "              ('area', 'centre'),\n",
              "              ('pricerange', 'expensive'),\n",
              "              ('phone', '01223 367660'),\n",
              "              ('addr', '100 mill road city centre'),\n",
              "              ('postcode', 'c.b 1, 2 b.d')]),\n",
              " OrderedDict([('name', 'bloomsbury restaurant'),\n",
              "              ('food', 'international'),\n",
              "              ('area', 'centre'),\n",
              "              ('pricerange', 'moderate'),\n",
              "              ('phone', '0871 942 9180'),\n",
              "              ('addr', 'crowne plaza hotel 20 downing street'),\n",
              "              ('postcode', 'c.b 2, 3 d.t')]),\n",
              " OrderedDict([('name', 'caffe uno'),\n",
              "              ('food', 'italian'),\n",
              "              ('area', 'centre'),\n",
              "              ('pricerange', 'expensive'),\n",
              "              ('phone', '01223 448620'),\n",
              "              ('addr', '32 bridge street city centre'),\n",
              "              ('postcode', 'dontcare')]),\n",
              " OrderedDict([('name', 'cambridge lodge restaurant'),\n",
              "              ('food', 'european'),\n",
              "              ('area', 'west'),\n",
              "              ('pricerange', 'expensive'),\n",
              "              ('phone', '01223 355166'),\n",
              "              ('addr',\n",
              "               'cambridge lodge hotel 139 huntingdon road city centre'),\n",
              "              ('postcode', 'c.b 3, 0 d.q')]),\n",
              " OrderedDict([('name', 'charlie chan'),\n",
              "              ('food', 'chinese'),\n",
              "              ('area', 'centre'),\n",
              "              ('pricerange', 'cheap'),\n",
              "              ('phone', '01223 361763'),\n",
              "              ('addr', 'regent street city centre'),\n",
              "              ('postcode', 'c.b 2, 1 d.b')]),\n",
              " OrderedDict([('name', 'chiquito restaurant bar'),\n",
              "              ('food', 'mexican'),\n",
              "              ('area', 'south'),\n",
              "              ('pricerange', 'expensive'),\n",
              "              ('phone', '01223 400170'),\n",
              "              ('addr',\n",
              "               '2g cambridge leisure park cherry hinton road cherry hinton'),\n",
              "              ('postcode', 'c.b 1, 7 d.y')]),\n",
              " OrderedDict([('name', 'city stop restaurant'),\n",
              "              ('food', 'dontcare'),\n",
              "              ('area', 'north'),\n",
              "              ('pricerange', 'expensive'),\n",
              "              ('phone', '01223 363270'),\n",
              "              ('addr', 'cambridge city football club milton road chesterton'),\n",
              "              ('postcode', 'dontcare')]),\n",
              " OrderedDict([('name', 'clowns cafe'),\n",
              "              ('food', 'dontcare'),\n",
              "              ('area', 'dontcare'),\n",
              "              ('pricerange', 'expensive'),\n",
              "              ('phone', '01223 355711'),\n",
              "              ('addr', 'dontcare'),\n",
              "              ('postcode', 'c.b 1, 1 l.n')]),\n",
              " OrderedDict([('name', 'cocum'),\n",
              "              ('food', 'indian'),\n",
              "              ('area', 'west'),\n",
              "              ('pricerange', 'expensive'),\n",
              "              ('phone', '01223 366668'),\n",
              "              ('addr', '71 castle street city centre'),\n",
              "              ('postcode', 'c.b 3, 0 a.h')]),\n",
              " OrderedDict([('name', 'cote'),\n",
              "              ('food', 'french'),\n",
              "              ('area', 'centre'),\n",
              "              ('pricerange', 'expensive'),\n",
              "              ('phone', '01223 311053'),\n",
              "              ('addr', 'bridge street city centre'),\n",
              "              ('postcode', 'c.b 2, 1 u.f')]),\n",
              " OrderedDict([('name', 'cotto'),\n",
              "              ('food', 'british'),\n",
              "              ('area', 'centre'),\n",
              "              ('pricerange', 'moderate'),\n",
              "              ('phone', '01223 302010'),\n",
              "              ('addr', '183 east road city centre'),\n",
              "              ('postcode', 'c.b 1, 1 b.g')]),\n",
              " OrderedDict([('name', 'curry garden'),\n",
              "              ('food', 'indian'),\n",
              "              ('area', 'centre'),\n",
              "              ('pricerange', 'expensive'),\n",
              "              ('phone', '01223 302330'),\n",
              "              ('addr', '106 regent street city centre'),\n",
              "              ('postcode', 'dontcare')]),\n",
              " OrderedDict([('name', 'curry king'),\n",
              "              ('food', 'indian'),\n",
              "              ('area', 'centre'),\n",
              "              ('pricerange', 'expensive'),\n",
              "              ('phone', '01223 324351'),\n",
              "              ('addr', '5 jordans yard bridge street city centre'),\n",
              "              ('postcode', 'dontcare')]),\n",
              " OrderedDict([('name', 'curry prince'),\n",
              "              ('food', 'indian'),\n",
              "              ('area', 'east'),\n",
              "              ('pricerange', 'moderate'),\n",
              "              ('phone', '01223 566388'),\n",
              "              ('addr', '451 newmarket road fen ditton'),\n",
              "              ('postcode', 'c.b 5, 8 j.j')]),\n",
              " OrderedDict([('name', 'curry queen'),\n",
              "              ('food', 'indian'),\n",
              "              ('area', 'dontcare'),\n",
              "              ('pricerange', 'expensive'),\n",
              "              ('phone', 'dontcare'),\n",
              "              ('addr', '106 mill road city centre'),\n",
              "              ('postcode', 'dontcare')]),\n",
              " OrderedDict([('name', 'da vinci pizzeria'),\n",
              "              ('food', 'italian'),\n",
              "              ('area', 'north'),\n",
              "              ('pricerange', 'cheap'),\n",
              "              ('phone', '01223 351707'),\n",
              "              ('addr', '20 milton road chesterton'),\n",
              "              ('postcode', 'c.b 4, 1 j.y')]),\n",
              " OrderedDict([('name', 'darrys cookhouse and wine shop'),\n",
              "              ('food', 'modern european'),\n",
              "              ('area', 'centre'),\n",
              "              ('pricerange', 'expensive'),\n",
              "              ('phone', '01223 505015'),\n",
              "              ('addr', '40270 king street city centre'),\n",
              "              ('postcode', 'c.b 1, 1 l.n')]),\n",
              " OrderedDict([('name', 'de luca cucina and bar'),\n",
              "              ('food', 'modern european'),\n",
              "              ('area', 'centre'),\n",
              "              ('pricerange', 'moderate'),\n",
              "              ('phone', '01223 356666'),\n",
              "              ('addr', '83 regent street'),\n",
              "              ('postcode', 'c.b 2, 1 a.w')]),\n",
              " OrderedDict([('name', 'dojo noodle bar'),\n",
              "              ('food', 'asian oriental'),\n",
              "              ('area', 'centre'),\n",
              "              ('pricerange', 'cheap'),\n",
              "              ('phone', '01223 363471'),\n",
              "              ('addr', '40210 millers yard city centre'),\n",
              "              ('postcode', 'c.b 2, 1 r.q')]),\n",
              " OrderedDict([('name', 'don pasquale pizzeria'),\n",
              "              ('food', 'italian'),\n",
              "              ('area', 'centre'),\n",
              "              ('pricerange', 'expensive'),\n",
              "              ('phone', '01223 350106'),\n",
              "              ('addr', '12 market hill city centre'),\n",
              "              ('postcode', 'dontcare')]),\n",
              " OrderedDict([('name', 'efes restaurant'),\n",
              "              ('food', 'turkish'),\n",
              "              ('area', 'centre'),\n",
              "              ('pricerange', 'moderate'),\n",
              "              ('phone', '01223 500005'),\n",
              "              ('addr', 'king street city centre'),\n",
              "              ('postcode', 'c.b 1, 1 l.n')]),\n",
              " OrderedDict([('name', 'eraina'),\n",
              "              ('food', 'european'),\n",
              "              ('area', 'centre'),\n",
              "              ('pricerange', 'expensive'),\n",
              "              ('phone', '01223 368786'),\n",
              "              ('addr', 'free school lane city centre'),\n",
              "              ('postcode', 'c.b 2, 3 r.h')]),\n",
              " OrderedDict([('name', 'fitzbillies restaurant'),\n",
              "              ('food', 'british'),\n",
              "              ('area', 'centre'),\n",
              "              ('pricerange', 'expensive'),\n",
              "              ('phone', '01223 352500'),\n",
              "              ('addr', '51 trumpington street city centre'),\n",
              "              ('postcode', 'dontcare')]),\n",
              " OrderedDict([('name', 'frankie and bennys'),\n",
              "              ('food', 'italian'),\n",
              "              ('area', 'south'),\n",
              "              ('pricerange', 'expensive'),\n",
              "              ('phone', '01223 412430'),\n",
              "              ('addr', 'cambridge leisure park clifton way cherry hinton'),\n",
              "              ('postcode', 'c.b 1, 7 d.y')]),\n",
              " OrderedDict([('name', 'galleria'),\n",
              "              ('food', 'european'),\n",
              "              ('area', 'centre'),\n",
              "              ('pricerange', 'moderate'),\n",
              "              ('phone', '01223 362054'),\n",
              "              ('addr', '33 bridge street'),\n",
              "              ('postcode', 'c.b 2, 1 u.w')]),\n",
              " OrderedDict([('name', 'golden house'),\n",
              "              ('food', 'chinese'),\n",
              "              ('area', 'centre'),\n",
              "              ('pricerange', 'cheap'),\n",
              "              ('phone', '01842 753771'),\n",
              "              ('addr', '12 lensfield road city centre'),\n",
              "              ('postcode', 'dontcare')]),\n",
              " OrderedDict([('name', 'golden wok'),\n",
              "              ('food', 'chinese'),\n",
              "              ('area', 'north'),\n",
              "              ('pricerange', 'moderate'),\n",
              "              ('phone', '01223 350688'),\n",
              "              ('addr', '191 histon road chesterton'),\n",
              "              ('postcode', 'c.b 4, 3 h.l')]),\n",
              " OrderedDict([('name', 'gourmet burger kitchen'),\n",
              "              ('food', 'north american'),\n",
              "              ('area', 'centre'),\n",
              "              ('pricerange', 'expensive'),\n",
              "              ('phone', '01223 312598'),\n",
              "              ('addr', 'regent street city centre'),\n",
              "              ('postcode', 'c.b 2, 1 a.b')]),\n",
              " OrderedDict([('name', 'graffiti'),\n",
              "              ('food', 'british'),\n",
              "              ('area', 'west'),\n",
              "              ('pricerange', 'expensive'),\n",
              "              ('phone', '01223 277977'),\n",
              "              ('addr', 'hotel felix whitehouse lane huntingdon road'),\n",
              "              ('postcode', 'c.b 3, 0 l.x')]),\n",
              " OrderedDict([('name', 'grafton hotel restaurant'),\n",
              "              ('food', 'british'),\n",
              "              ('area', 'east'),\n",
              "              ('pricerange', 'expensive'),\n",
              "              ('phone', '01223 241387'),\n",
              "              ('addr', 'grafton hotel 619 newmarket road fen ditton'),\n",
              "              ('postcode', 'c.b 5, 8 p.a')]),\n",
              " OrderedDict([('name', 'hakka'),\n",
              "              ('food', 'chinese'),\n",
              "              ('area', 'north'),\n",
              "              ('pricerange', 'expensive'),\n",
              "              ('phone', '01223 568988'),\n",
              "              ('addr', 'milton road chesterton'),\n",
              "              ('postcode', 'c.b 4, 1 j.y')]),\n",
              " OrderedDict([('name', 'hk fusion'),\n",
              "              ('food', 'chinese'),\n",
              "              ('area', 'centre'),\n",
              "              ('pricerange', 'expensive'),\n",
              "              ('phone', 'dontcare'),\n",
              "              ('addr', '21 burleigh street city centre'),\n",
              "              ('postcode', 'c.b 1, 1 d.g')]),\n",
              " OrderedDict([('name', 'hotel du vin and bistro'),\n",
              "              ('food', 'european'),\n",
              "              ('area', 'centre'),\n",
              "              ('pricerange', 'moderate'),\n",
              "              ('phone', '01223 227330'),\n",
              "              ('addr', '15 - 19 trumpington street'),\n",
              "              ('postcode', 'c.b 2, 1 q.a')]),\n",
              " OrderedDict([('name', 'india house'),\n",
              "              ('food', 'indian'),\n",
              "              ('area', 'west'),\n",
              "              ('pricerange', 'expensive'),\n",
              "              ('phone', '01223 461661'),\n",
              "              ('addr', '31 newnham road newnham'),\n",
              "              ('postcode', 'dontcare')]),\n",
              " OrderedDict([('name', 'j restaurant'),\n",
              "              ('food', 'asian oriental'),\n",
              "              ('area', 'centre'),\n",
              "              ('pricerange', 'cheap'),\n",
              "              ('phone', '01223 307581'),\n",
              "              ('addr', '86 regent street city centre'),\n",
              "              ('postcode', 'c.b 2')]),\n",
              " OrderedDict([('name', 'jinling noodle bar'),\n",
              "              ('food', 'chinese'),\n",
              "              ('area', 'dontcare'),\n",
              "              ('pricerange', 'moderate'),\n",
              "              ('phone', '01223 566188'),\n",
              "              ('addr', '11 peas hill city centre'),\n",
              "              ('postcode', 'c.b 2, 3 p.p')]),\n",
              " OrderedDict([('name', 'kohinoor'),\n",
              "              ('food', 'indian'),\n",
              "              ('area', 'centre'),\n",
              "              ('pricerange', 'cheap'),\n",
              "              ('phone', '01223 323639'),\n",
              "              ('addr', '74 mill road city centre'),\n",
              "              ('postcode', 'dontcare')]),\n",
              " OrderedDict([('name', 'kymmoy'),\n",
              "              ('food', 'asian oriental'),\n",
              "              ('area', 'centre'),\n",
              "              ('pricerange', 'expensive'),\n",
              "              ('phone', '01223 311911'),\n",
              "              ('addr', '52 mill road city centre'),\n",
              "              ('postcode', 'c.b 1, 2 a.s')]),\n",
              " OrderedDict([('name', 'la margherita'),\n",
              "              ('food', 'italian'),\n",
              "              ('area', 'west'),\n",
              "              ('pricerange', 'cheap'),\n",
              "              ('phone', '01223 315232'),\n",
              "              ('addr', '15 magdalene street city centre'),\n",
              "              ('postcode', 'c.b 3, 0 a.f')]),\n",
              " OrderedDict([('name', 'la mimosa'),\n",
              "              ('food', 'mediterranean'),\n",
              "              ('area', 'centre'),\n",
              "              ('pricerange', 'expensive'),\n",
              "              ('phone', '01223 362525'),\n",
              "              ('addr', 'thompsons lane fen ditton'),\n",
              "              ('postcode', 'c.b 5, 8 a.q')]),\n",
              " OrderedDict([('name', 'la raza'),\n",
              "              ('food', 'spanish'),\n",
              "              ('area', 'centre'),\n",
              "              ('pricerange', 'cheap'),\n",
              "              ('phone', '01223 464550'),\n",
              "              ('addr', '4 - 6 rose crescent'),\n",
              "              ('postcode', 'c.b 2, 3 l.l')]),\n",
              " OrderedDict([('name', 'la tasca'),\n",
              "              ('food', 'spanish'),\n",
              "              ('area', 'centre'),\n",
              "              ('pricerange', 'moderate'),\n",
              "              ('phone', '01223 464630'),\n",
              "              ('addr', '14 -16 bridge street'),\n",
              "              ('postcode', 'c.b 2, 1 u.f')]),\n",
              " OrderedDict([('name', 'lan hong house'),\n",
              "              ('food', 'chinese'),\n",
              "              ('area', 'centre'),\n",
              "              ('pricerange', 'moderate'),\n",
              "              ('phone', '01223 350420'),\n",
              "              ('addr', '12 norfolk street city centre'),\n",
              "              ('postcode', 'dontcare')]),\n",
              " OrderedDict([('name', 'little seoul'),\n",
              "              ('food', 'korean'),\n",
              "              ('area', 'centre'),\n",
              "              ('pricerange', 'expensive'),\n",
              "              ('phone', '01223 308681'),\n",
              "              ('addr', '108 regent street city centre'),\n",
              "              ('postcode', 'c.b 2, 1 d.p')]),\n",
              " OrderedDict([('name', 'loch fyne'),\n",
              "              ('food', 'seafood'),\n",
              "              ('area', 'centre'),\n",
              "              ('pricerange', 'expensive'),\n",
              "              ('phone', '01223 362433'),\n",
              "              ('addr', 'the little rose 37 trumpington street'),\n",
              "              ('postcode', 'c.b 2, 1 q.y')]),\n",
              " OrderedDict([('name', 'mahal of cambridge'),\n",
              "              ('food', 'indian'),\n",
              "              ('area', 'centre'),\n",
              "              ('pricerange', 'cheap'),\n",
              "              ('phone', '01223 360409'),\n",
              "              ('addr', '3 - 5 millers yard mill lane'),\n",
              "              ('postcode', 'dontcare')]),\n",
              " OrderedDict([('name', 'maharajah tandoori restaurant'),\n",
              "              ('food', 'indian'),\n",
              "              ('area', 'west'),\n",
              "              ('pricerange', 'expensive'),\n",
              "              ('phone', '01223 358399'),\n",
              "              ('addr', '41518 castle street city centre'),\n",
              "              ('postcode', 'c.b 3, 0 a.h')]),\n",
              " OrderedDict([('name', 'meghna'),\n",
              "              ('food', 'indian'),\n",
              "              ('area', 'north'),\n",
              "              ('pricerange', 'moderate'),\n",
              "              ('phone', '01223 727410'),\n",
              "              ('addr', '205 victoria road chesterton'),\n",
              "              ('postcode', 'c.b 4, 3 l.f')]),\n",
              " OrderedDict([('name', 'meze bar restaurant'),\n",
              "              ('food', 'turkish'),\n",
              "              ('area', 'centre'),\n",
              "              ('pricerange', 'expensive'),\n",
              "              ('phone', 'dontcare'),\n",
              "              ('addr', '196 mill road city centre'),\n",
              "              ('postcode', 'c.b 1, 3 n.f')]),\n",
              " OrderedDict([('name', 'michaelhouse cafe'),\n",
              "              ('food', 'european'),\n",
              "              ('area', 'centre'),\n",
              "              ('pricerange', 'expensive'),\n",
              "              ('phone', '01223 309147'),\n",
              "              ('addr', \"st. michael's church trinity street city centre\"),\n",
              "              ('postcode', 'c.b 2, 1 s.u')]),\n",
              " OrderedDict([('name', 'midsummer house restaurant'),\n",
              "              ('food', 'british'),\n",
              "              ('area', 'centre'),\n",
              "              ('pricerange', 'expensive'),\n",
              "              ('phone', '01223 369299'),\n",
              "              ('addr', 'midsummer common'),\n",
              "              ('postcode', 'dontcare')]),\n",
              " OrderedDict([('name', 'nandos'),\n",
              "              ('food', 'portuguese'),\n",
              "              ('area', 'south'),\n",
              "              ('pricerange', 'cheap'),\n",
              "              ('phone', '01223 327908'),\n",
              "              ('addr', 'cambridge leisure park clifton way'),\n",
              "              ('postcode', 'c.b 1, 7 d.y')]),\n",
              " OrderedDict([('name', 'nandos city centre'),\n",
              "              ('food', 'portuguese'),\n",
              "              ('area', 'centre'),\n",
              "              ('pricerange', 'cheap'),\n",
              "              ('phone', '01223 327908'),\n",
              "              ('addr', '33-34 saint andrews street'),\n",
              "              ('postcode', 'c.b 2, 3 a.r')]),\n",
              " OrderedDict([('name', 'panahar'),\n",
              "              ('food', 'indian'),\n",
              "              ('area', 'centre'),\n",
              "              ('pricerange', 'expensive'),\n",
              "              ('phone', 'dontcare'),\n",
              "              ('addr', 'dontcare'),\n",
              "              ('postcode', 'dontcare')]),\n",
              " OrderedDict([('name', 'peking restaurant'),\n",
              "              ('food', 'chinese'),\n",
              "              ('area', 'south'),\n",
              "              ('pricerange', 'expensive'),\n",
              "              ('phone', '01223 354755'),\n",
              "              ('addr', '10 homerton street city centre'),\n",
              "              ('postcode', 'c.b 2, 8 n.x')]),\n",
              " OrderedDict([('name', 'pipasha restaurant'),\n",
              "              ('food', 'indian'),\n",
              "              ('area', 'east'),\n",
              "              ('pricerange', 'expensive'),\n",
              "              ('phone', '01223 577786'),\n",
              "              ('addr', 'newmarket road fen ditton'),\n",
              "              ('postcode', 'c.b 5, 8 p.a')]),\n",
              " OrderedDict([('name', 'pizza express'),\n",
              "              ('food', 'italian'),\n",
              "              ('area', 'centre'),\n",
              "              ('pricerange', 'moderate'),\n",
              "              ('phone', '01223 324033'),\n",
              "              ('addr', 'dontcare'),\n",
              "              ('postcode', 'c.b 2, 1 d.b')]),\n",
              " OrderedDict([('name', 'pizza express fen ditton'),\n",
              "              ('food', 'dontcare'),\n",
              "              ('area', 'centre'),\n",
              "              ('pricerange', 'moderate'),\n",
              "              ('phone', 'dontcare'),\n",
              "              ('addr', 'dontcare'),\n",
              "              ('postcode', 'dontcare')]),\n",
              " OrderedDict([('name', 'pizza hut cherry hinton'),\n",
              "              ('food', 'italian'),\n",
              "              ('area', 'south'),\n",
              "              ('pricerange', 'moderate'),\n",
              "              ('phone', '01223 323737'),\n",
              "              ('addr', 'g4 cambridge leisure park clifton way cherry hinton'),\n",
              "              ('postcode', 'c.b 1, 7 d.y')]),\n",
              " OrderedDict([('name', 'pizza hut city centre'),\n",
              "              ('food', 'italian'),\n",
              "              ('area', 'centre'),\n",
              "              ('pricerange', 'cheap'),\n",
              "              ('phone', '01223 323737'),\n",
              "              ('addr', 'regent street city centre'),\n",
              "              ('postcode', 'dontcare')]),\n",
              " OrderedDict([('name', 'pizza hut fen ditton'),\n",
              "              ('food', 'italian'),\n",
              "              ('area', 'east'),\n",
              "              ('pricerange', 'moderate'),\n",
              "              ('phone', '01223 323737'),\n",
              "              ('addr', 'cambridge retail park newmarket road fen ditton'),\n",
              "              ('postcode', 'c.b 5, 8 w.r')]),\n",
              " OrderedDict([('name', 'prezzo'),\n",
              "              ('food', 'italian'),\n",
              "              ('area', 'west'),\n",
              "              ('pricerange', 'moderate'),\n",
              "              ('phone', '01799 521260'),\n",
              "              ('addr', '21 - 24 northampton road'),\n",
              "              ('postcode', 'c.b 3, 0 a.d')]),\n",
              " OrderedDict([('name', 'rajmahal'),\n",
              "              ('food', 'indian'),\n",
              "              ('area', 'east'),\n",
              "              ('pricerange', 'moderate'),\n",
              "              ('phone', '01223 244955'),\n",
              "              ('addr', '7 barnwell road fen ditton'),\n",
              "              ('postcode', 'c.b 5, 8 r.g')]),\n",
              " OrderedDict([('name', 'restaurant alimentum'),\n",
              "              ('food', 'modern european'),\n",
              "              ('area', 'south'),\n",
              "              ('pricerange', 'moderate'),\n",
              "              ('phone', '01223 413000'),\n",
              "              ('addr', '152 - 154 hills road'),\n",
              "              ('postcode', 'c.b 2, 8 p.b')]),\n",
              " OrderedDict([('name', 'restaurant one seven'),\n",
              "              ('food', 'british'),\n",
              "              ('area', 'centre'),\n",
              "              ('pricerange', 'moderate'),\n",
              "              ('phone', '01223 337766'),\n",
              "              ('addr', 'de vere university arms regent street city centre'),\n",
              "              ('postcode', 'dontcare')]),\n",
              " OrderedDict([('name', 'restaurant two two'),\n",
              "              ('food', 'french'),\n",
              "              ('area', 'north'),\n",
              "              ('pricerange', 'expensive'),\n",
              "              ('phone', '01223 351880'),\n",
              "              ('addr', '22 chesterton road chesterton'),\n",
              "              ('postcode', 'c.b 4, 3 a.x')]),\n",
              " OrderedDict([('name', 'rice boat'),\n",
              "              ('food', 'indian'),\n",
              "              ('area', 'west'),\n",
              "              ('pricerange', 'expensive'),\n",
              "              ('phone', '01223 302800'),\n",
              "              ('addr', '37 newnham road newnham'),\n",
              "              ('postcode', 'dontcare')]),\n",
              " OrderedDict([('name', 'rice house'),\n",
              "              ('food', 'chinese'),\n",
              "              ('area', 'centre'),\n",
              "              ('pricerange', 'cheap'),\n",
              "              ('phone', '01223 367755'),\n",
              "              ('addr', '88 mill road city centre'),\n",
              "              ('postcode', 'dontcare')]),\n",
              " OrderedDict([('name', 'riverside brasserie'),\n",
              "              ('food', 'modern european'),\n",
              "              ('area', 'centre'),\n",
              "              ('pricerange', 'moderate'),\n",
              "              ('phone', '01223 259988'),\n",
              "              ('addr',\n",
              "               'doubletree by hilton cambridge granta place mill lane'),\n",
              "              ('postcode', 'dontcare')]),\n",
              " OrderedDict([('name', 'royal spice'),\n",
              "              ('food', 'indian'),\n",
              "              ('area', 'north'),\n",
              "              ('pricerange', 'cheap'),\n",
              "              ('phone', '01733 553355'),\n",
              "              ('addr', 'victoria avenue chesterton'),\n",
              "              ('postcode', 'c.b 4, 1 e.h')]),\n",
              " OrderedDict([('name', 'royal standard'),\n",
              "              ('food', 'gastropub'),\n",
              "              ('area', 'east'),\n",
              "              ('pricerange', 'expensive'),\n",
              "              ('phone', '01223 247877'),\n",
              "              ('addr', '290 mill road city centre'),\n",
              "              ('postcode', 'c.b 1, 3 n.l')]),\n",
              " OrderedDict([('name', 'saffron brasserie'),\n",
              "              ('food', 'indian'),\n",
              "              ('area', 'centre'),\n",
              "              ('pricerange', 'expensive'),\n",
              "              ('phone', 'dontcare'),\n",
              "              ('addr', 'dontcare'),\n",
              "              ('postcode', 'dontcare')]),\n",
              " OrderedDict([('name', 'saigon city'),\n",
              "              ('food', 'asian oriental'),\n",
              "              ('area', 'north'),\n",
              "              ('pricerange', 'expensive'),\n",
              "              ('phone', '01223 356555'),\n",
              "              ('addr', '169 high street chesterton chesterton'),\n",
              "              ('postcode', 'c.b 4, 1 n.l')]),\n",
              " OrderedDict([('name', 'saint johns chop house'),\n",
              "              ('food', 'british'),\n",
              "              ('area', 'west'),\n",
              "              ('pricerange', 'moderate'),\n",
              "              ('phone', '01223 353110'),\n",
              "              ('addr', '21 - 24 northampton street'),\n",
              "              ('postcode', 'c.b 3, 0 a.d')]),\n",
              " OrderedDict([('name', 'sala thong'),\n",
              "              ('food', 'thai'),\n",
              "              ('area', 'west'),\n",
              "              ('pricerange', 'expensive'),\n",
              "              ('phone', '01223 323178'),\n",
              "              ('addr', '35 newnham road newnham'),\n",
              "              ('postcode', 'c.b 3, 9 e.y')]),\n",
              " OrderedDict([('name', 'sesame restaurant and bar'),\n",
              "              ('food', 'chinese'),\n",
              "              ('area', 'dontcare'),\n",
              "              ('pricerange', 'expensive'),\n",
              "              ('phone', 'dontcare'),\n",
              "              ('addr', 'dontcare'),\n",
              "              ('postcode', 'dontcare')]),\n",
              " OrderedDict([('name', 'shanghai family restaurant'),\n",
              "              ('food', 'chinese'),\n",
              "              ('area', 'centre'),\n",
              "              ('pricerange', 'moderate'),\n",
              "              ('phone', '01223 301761'),\n",
              "              ('addr', '39 burleigh street city centre'),\n",
              "              ('postcode', 'dontcare')]),\n",
              " OrderedDict([('name', 'shiraz restaurant'),\n",
              "              ('food', 'mediterranean'),\n",
              "              ('area', 'centre'),\n",
              "              ('pricerange', 'expensive'),\n",
              "              ('phone', '01223 307581'),\n",
              "              ('addr', '84 regent street city centre'),\n",
              "              ('postcode', 'c.b 2, 1 d.p')]),\n",
              " OrderedDict([('name', 'sitar tandoori'),\n",
              "              ('food', 'indian'),\n",
              "              ('area', 'east'),\n",
              "              ('pricerange', 'expensive'),\n",
              "              ('phone', '01223 249955'),\n",
              "              ('addr', '43 high street cherry hinton cherry hinton'),\n",
              "              ('postcode', 'c.b 1, 9 h.x')]),\n",
              " OrderedDict([('name', 'stazione restaurant and coffee bar'),\n",
              "              ('food', 'italian'),\n",
              "              ('area', 'centre'),\n",
              "              ('pricerange', 'expensive'),\n",
              "              ('phone', '01223 352607'),\n",
              "              ('addr', 'market hill city centre'),\n",
              "              ('postcode', 'dontcare')]),\n",
              " OrderedDict([('name', 'taj tandoori'),\n",
              "              ('food', 'indian'),\n",
              "              ('area', 'south'),\n",
              "              ('pricerange', 'expensive'),\n",
              "              ('phone', '01223 412299'),\n",
              "              ('addr', '64 cherry hinton road cherry hinton'),\n",
              "              ('postcode', 'c.b 1, 7 a.a')]),\n",
              " OrderedDict([('name', 'tandoori palace'),\n",
              "              ('food', 'indian'),\n",
              "              ('area', 'north'),\n",
              "              ('pricerange', 'expensive'),\n",
              "              ('phone', '01223 506055'),\n",
              "              ('addr', '68 histon road chesterton'),\n",
              "              ('postcode', 'c.b 4, 3 l.e')]),\n",
              " OrderedDict([('name', 'thanh binh'),\n",
              "              ('food', 'vietnamese'),\n",
              "              ('area', 'west'),\n",
              "              ('pricerange', 'cheap'),\n",
              "              ('phone', '01223 362456'),\n",
              "              ('addr', '17 magdalene street city centre'),\n",
              "              ('postcode', 'c.b 3, 0 a.f')]),\n",
              " OrderedDict([('name', 'the cambridge chop house'),\n",
              "              ('food', 'british'),\n",
              "              ('area', 'dontcare'),\n",
              "              ('pricerange', 'expensive'),\n",
              "              ('phone', '01223 359506'),\n",
              "              ('addr', 'dontcare'),\n",
              "              ('postcode', 'dontcare')]),\n",
              " OrderedDict([('name', 'the copper kettle'),\n",
              "              ('food', 'british'),\n",
              "              ('area', 'centre'),\n",
              "              ('pricerange', 'moderate'),\n",
              "              ('phone', '01223 365068'),\n",
              "              ('addr', '4 kings parade city centre'),\n",
              "              ('postcode', 'c.b 2, 1 s.j')]),\n",
              " OrderedDict([('name', 'the cow pizza kitchen and bar'),\n",
              "              ('food', 'gastropub'),\n",
              "              ('area', 'centre'),\n",
              "              ('pricerange', 'moderate'),\n",
              "              ('phone', '01223 308871'),\n",
              "              ('addr', 'corn exchange street'),\n",
              "              ('postcode', 'c.b 2, 3 q.f')]),\n",
              " OrderedDict([('name', 'the gandhi'),\n",
              "              ('food', 'indian'),\n",
              "              ('area', 'centre'),\n",
              "              ('pricerange', 'cheap'),\n",
              "              ('phone', '01223 353942'),\n",
              "              ('addr', '72 regent street city centre'),\n",
              "              ('postcode', 'dontcare')]),\n",
              " OrderedDict([('name', 'the gardenia'),\n",
              "              ('food', 'mediterranean'),\n",
              "              ('area', 'centre'),\n",
              "              ('pricerange', 'cheap'),\n",
              "              ('phone', '01223 356354'),\n",
              "              ('addr', '2 rose crescent city centre'),\n",
              "              ('postcode', 'c.b 2, 3 l.l')]),\n",
              " OrderedDict([('name', 'the golden curry'),\n",
              "              ('food', 'indian'),\n",
              "              ('area', 'dontcare'),\n",
              "              ('pricerange', 'expensive'),\n",
              "              ('phone', '01223 329432'),\n",
              "              ('addr', 'dontcare'),\n",
              "              ('postcode', 'dontcare')]),\n",
              " OrderedDict([('name', 'the good luck chinese food takeaway'),\n",
              "              ('food', 'chinese'),\n",
              "              ('area', 'south'),\n",
              "              ('pricerange', 'expensive'),\n",
              "              ('phone', '01223 244149'),\n",
              "              ('addr', '82 cherry hinton road cherry hinton'),\n",
              "              ('postcode', 'c.b 1, 7 a.g')]),\n",
              " OrderedDict([('name', 'the hotpot'),\n",
              "              ('food', 'chinese'),\n",
              "              ('area', 'north'),\n",
              "              ('pricerange', 'expensive'),\n",
              "              ('phone', '01223 366552'),\n",
              "              ('addr', '66 chesterton road chesterton'),\n",
              "              ('postcode', 'c.b 4, 1 e.p')]),\n",
              " OrderedDict([('name', 'the lucky star'),\n",
              "              ('food', 'chinese'),\n",
              "              ('area', 'south'),\n",
              "              ('pricerange', 'cheap'),\n",
              "              ('phone', '01223 244277'),\n",
              "              ('addr', 'cambridge leisure park clifton way cherry hinton'),\n",
              "              ('postcode', 'c.b 1, 7 d.y')]),\n",
              " OrderedDict([('name', 'the missing sock'),\n",
              "              ('food', 'international'),\n",
              "              ('area', 'east'),\n",
              "              ('pricerange', 'cheap'),\n",
              "              ('phone', '01223 812660'),\n",
              "              ('addr', 'finders corner newmarket road'),\n",
              "              ('postcode', 'c.b 25, 9 a.q')]),\n",
              " OrderedDict([('name', 'the nirala'),\n",
              "              ('food', 'indian'),\n",
              "              ('area', 'north'),\n",
              "              ('pricerange', 'moderate'),\n",
              "              ('phone', '01223 360966'),\n",
              "              ('addr', '7 milton road chesterton'),\n",
              "              ('postcode', 'c.b 4, 1 u.y')]),\n",
              " OrderedDict([('name', 'the oak bistro'),\n",
              "              ('food', 'british'),\n",
              "              ('area', 'centre'),\n",
              "              ('pricerange', 'moderate'),\n",
              "              ('phone', '01223 323361'),\n",
              "              ('addr', '6 lensfield road'),\n",
              "              ('postcode', 'dontcare')]),\n",
              " OrderedDict([('name', 'the river bar steakhouse and grill'),\n",
              "              ('food', 'modern european'),\n",
              "              ('area', 'centre'),\n",
              "              ('pricerange', 'cheap'),\n",
              "              ('phone', '01223 307030'),\n",
              "              ('addr', 'quayside off bridge street'),\n",
              "              ('postcode', 'c.b 5, 8 a.q')]),\n",
              " OrderedDict([('name', 'the slug and lettuce'),\n",
              "              ('food', 'gastropub'),\n",
              "              ('area', 'centre'),\n",
              "              ('pricerange', 'expensive'),\n",
              "              ('phone', 'dontcare'),\n",
              "              ('addr', '34 - 35 green street'),\n",
              "              ('postcode', 'c.b 2, 3 j.u')]),\n",
              " OrderedDict([('name', 'the varsity restaurant'),\n",
              "              ('food', 'international'),\n",
              "              ('area', 'centre'),\n",
              "              ('pricerange', 'moderate'),\n",
              "              ('phone', '01223 356060'),\n",
              "              ('addr', '35 saint andrews street city centre'),\n",
              "              ('postcode', 'c.b 2, 3 a.r')]),\n",
              " OrderedDict([('name', 'travellers rest'),\n",
              "              ('food', 'british'),\n",
              "              ('area', 'west'),\n",
              "              ('pricerange', 'expensive'),\n",
              "              ('phone', '01223 276182'),\n",
              "              ('addr', 'dontcare'),\n",
              "              ('postcode', 'dontcare')]),\n",
              " OrderedDict([('name', 'ugly duckling'),\n",
              "              ('food', 'chinese'),\n",
              "              ('area', 'centre'),\n",
              "              ('pricerange', 'expensive'),\n",
              "              ('phone', 'dontcare'),\n",
              "              ('addr', '12 st. johns street city centre'),\n",
              "              ('postcode', 'dontcare')]),\n",
              " OrderedDict([('name', 'wagamama'),\n",
              "              ('food', 'japanese'),\n",
              "              ('area', 'centre'),\n",
              "              ('pricerange', 'expensive'),\n",
              "              ('phone', '01223 462354'),\n",
              "              ('addr', '36 saint andrews street'),\n",
              "              ('postcode', 'c.b 2, 3 a.r')]),\n",
              " OrderedDict([('name', 'yippee noodle bar'),\n",
              "              ('food', 'asian oriental'),\n",
              "              ('area', 'centre'),\n",
              "              ('pricerange', 'moderate'),\n",
              "              ('phone', '01223 518111'),\n",
              "              ('addr', '40428 king street city centre'),\n",
              "              ('postcode', 'c.b 1, 1 l.h')]),\n",
              " OrderedDict([('name', 'yu garden'),\n",
              "              ('food', 'chinese'),\n",
              "              ('area', 'east'),\n",
              "              ('pricerange', 'expensive'),\n",
              "              ('phone', '01223 248882'),\n",
              "              ('addr', '529 newmarket road fen ditton'),\n",
              "              ('postcode', 'c.b 5, 8 p.a')]),\n",
              " OrderedDict([('name', 'zizzi cambridge'),\n",
              "              ('food', 'italian'),\n",
              "              ('area', 'centre'),\n",
              "              ('pricerange', 'cheap'),\n",
              "              ('phone', '01223 365599'),\n",
              "              ('addr', '47-53 regent street'),\n",
              "              ('postcode', 'dontcare')])]"
            ]
          },
          "metadata": {},
          "execution_count": 139
        }
      ]
    },
    {
      "cell_type": "code",
      "metadata": {
        "id": "87tNL3UbRhDZ"
      },
      "source": [
        "# Creat json file of resturanets informations\n",
        "with open(\"rests_dict.json\", \"w\") as outfile:\n",
        "    json.dump(resturanets, outfile)"
      ],
      "execution_count": null,
      "outputs": []
    },
    {
      "cell_type": "code",
      "metadata": {
        "id": "IQ3JqzWIYcHM",
        "colab": {
          "base_uri": "https://localhost:8080/"
        },
        "outputId": "2a46adf8-64f2-4c77-801e-842234ea0603"
      },
      "source": [
        "#Download resturanets informations\n",
        "!gdown --id 1RsFN-ZSXkO4eK8205vFx_HPDfd4Ke8uE"
      ],
      "execution_count": null,
      "outputs": [
        {
          "output_type": "stream",
          "name": "stdout",
          "text": [
            "Downloading...\n",
            "From: https://drive.google.com/uc?id=1RsFN-ZSXkO4eK8205vFx_HPDfd4Ke8uE\n",
            "To: /content/rests_dict.json\n",
            "\r  0% 0.00/20.0k [00:00<?, ?B/s]\r100% 20.0k/20.0k [00:00<00:00, 33.4MB/s]\n"
          ]
        }
      ]
    },
    {
      "cell_type": "code",
      "metadata": {
        "id": "c_bsziBCYqtM"
      },
      "source": [
        "# Read resturanets informations \n",
        "import json\n",
        "f = open ('/content/rests_dict.json', \"r\")\n",
        "resturanets = json.loads(f.read())"
      ],
      "execution_count": null,
      "outputs": []
    },
    {
      "cell_type": "markdown",
      "metadata": {
        "id": "VBoN3ZyUw1pc"
      },
      "source": [
        "# **Question 3-1**"
      ]
    },
    {
      "cell_type": "code",
      "metadata": {
        "id": "eldxAEMQvMxe",
        "colab": {
          "base_uri": "https://localhost:8080/"
        },
        "outputId": "05967978-c2b3-4cf1-975b-3fff80b430f5"
      },
      "source": [
        "# download data\n",
        "!gdown --id 1gGUeQKCDuM_7WI4JbhDzCR3Wo6Pi2nLS\n"
      ],
      "execution_count": null,
      "outputs": [
        {
          "output_type": "stream",
          "name": "stdout",
          "text": [
            "Downloading...\n",
            "From: https://drive.google.com/uc?id=1gGUeQKCDuM_7WI4JbhDzCR3Wo6Pi2nLS\n",
            "To: /content/db-test.txt\n",
            "\r  0% 0.00/111 [00:00<?, ?B/s]\r100% 111/111 [00:00<00:00, 176kB/s]\n"
          ]
        }
      ]
    },
    {
      "cell_type": "code",
      "metadata": {
        "id": "lfz4o0mozlOi",
        "colab": {
          "base_uri": "https://localhost:8080/"
        },
        "outputId": "6c3db68e-052c-4752-d5ac-8729c1c68655"
      },
      "source": [
        "sample_data = []\n",
        "with open('/content/db-test.txt', 'r') as ptr:\n",
        "  queries=[]\n",
        "  lines=[]\n",
        "  for line in ptr:\n",
        "    line = line.replace('.', '')\n",
        "    line = line.replace(',', '')\n",
        "    line = line.replace('?', '')\n",
        "    line = line.replace('!', '')\n",
        "    line = line.strip()\n",
        "    lines.append(line)\n",
        "    queriess=line.split('   ')\n",
        "    d=[]\n",
        "    for query in queriess:\n",
        "      query=query.strip()\n",
        "      c=[]\n",
        "      a = query.split(':')\n",
        "      for b in a:\n",
        "        b=b.strip()\n",
        "        c.append(b)\n",
        "      d.append(c)\n",
        "    queries.append(d)\n",
        "queries"
      ],
      "execution_count": null,
      "outputs": [
        {
          "output_type": "execute_result",
          "data": {
            "text/plain": [
              "[[['food', 'indian'], ['phone', '01223 506055']],\n",
              " [['pricerange', 'cheap'], ['area', 'east']],\n",
              " [['phone', '01223 311911'], ['area', 'centre']]]"
            ]
          },
          "metadata": {},
          "execution_count": 144
        }
      ]
    },
    {
      "cell_type": "code",
      "metadata": {
        "id": "g_krsHpf19xE"
      },
      "source": [
        "set_target_rests=[]\n",
        "for query_set in queries:\n",
        "  target_rests=[]\n",
        "  for rest in resturanets:\n",
        "    if rest[query_set[0][0]] == query_set[0][1]:\n",
        "      if rest[query_set[1][0]]== query_set[1][1]:\n",
        "        target_rests.append(rest['name'])\n",
        "  set_target_rests.append(target_rests)"
      ],
      "execution_count": null,
      "outputs": []
    },
    {
      "cell_type": "code",
      "metadata": {
        "id": "RQjnHH4qKBO-",
        "colab": {
          "base_uri": "https://localhost:8080/"
        },
        "outputId": "618e1902-03d6-4dd5-b1f9-439cd7f74d2a"
      },
      "source": [
        "for i,line in enumerate(lines):\n",
        "  print(line,'\\n',len(set_target_rests[i]),'\\n',set_target_rests[i],'\\n\\n\\n\\n')"
      ],
      "execution_count": null,
      "outputs": [
        {
          "output_type": "stream",
          "name": "stdout",
          "text": [
            "food: indian    phone: 01223 506055 \n",
            " 1 \n",
            " ['tandoori palace'] \n",
            "\n",
            "\n",
            "\n",
            "\n",
            "pricerange: cheap   area: east \n",
            " 1 \n",
            " ['the missing sock'] \n",
            "\n",
            "\n",
            "\n",
            "\n",
            "phone: 01223 311911    area: centre \n",
            " 1 \n",
            " ['kymmoy'] \n",
            "\n",
            "\n",
            "\n",
            "\n"
          ]
        }
      ]
    },
    {
      "cell_type": "markdown",
      "metadata": {
        "id": "sK-bu8dEagJX"
      },
      "source": [
        "# **Question4**"
      ]
    },
    {
      "cell_type": "code",
      "metadata": {
        "id": "f78GMXcuwpd0"
      },
      "source": [
        "# given the ID of word returns its corresponding word\n",
        "def convert_ID_to_word(ID):   \n",
        "  for word, index in tokenizer.word_index.items():\n",
        "    if index == ID:\n",
        "      return word\n",
        "\n",
        "\n",
        "\n",
        "def get_slots (sent):\n",
        "  samplex=[sent]\n",
        "  tokenized_sample = tokenizer.texts_to_sequences(samplex)\n",
        "  pad_sample = pad_sequences(tokenized_sample, padding='post', maxlen=max_len)\n",
        "  pred_slot = slot_filling_model.predict(np.array(pad_sample))\n",
        "  pred_slot = pred_slot.reshape(pred_slot.shape[0]*pred_slot.shape[1], pred_slot.shape[2])\n",
        "  predicted_tagsx = [np.argmax(elem) for elem in pred_slot]\n",
        "  \n",
        "  slots={}\n",
        "  for i , tag in enumerate(predicted_tagsx):\n",
        "    position = val_list.index(tag)\n",
        "    label = key_list[position]\n",
        "\n",
        "    if not (label=='O'):\n",
        "\n",
        "      if label=='B-food' or label== 'I-food':\n",
        "        if label=='B-food':\n",
        "          slots['food'] = convert_ID_to_word(pad_sample[0][i])\n",
        "        else:\n",
        "          slots['food'] = ' '.join([slots['food'] , convert_ID_to_word(pad_sample[0][i])])\n",
        "      \n",
        "      if label=='B-area' or label== 'I-area':\n",
        "        if label=='B-area':\n",
        "          slots['area'] = convert_ID_to_word(pad_sample[0][i])\n",
        "        else:\n",
        "          slots['area'] = ' '.join([slots['area'] , convert_ID_to_word(pad_sample[0][i])])\n",
        "\n",
        "\n",
        "      if label=='B-pricerange' or label== 'I-pricerange':\n",
        "        if label=='B-pricerange':\n",
        "          slots['pricerange'] = convert_ID_to_word(pad_sample[0][i])\n",
        "        else:\n",
        "          slots['pricerange'] = ' '.join([slots['pricerange'] , convert_ID_to_word(pad_sample[0][i])])\n",
        "\n",
        "  return slots\n"
      ],
      "execution_count": null,
      "outputs": []
    },
    {
      "cell_type": "code",
      "metadata": {
        "id": "0_L3sq2DVyLB"
      },
      "source": [
        "def get_intents (sent):\n",
        "\n",
        "  samplex=[sent]\n",
        "  tokenized_sample = tokenizer.texts_to_sequences(samplex)\n",
        "  pad_sample = pad_sequences(tokenized_sample, padding='post', maxlen=max_len)\n",
        "  pred_intent = intent_detect_model.predict(np.array(pad_sample))\n",
        "\n",
        "\n",
        "  sample_predicted_labels=np.zeros((29))\n",
        "  for i,preds in enumerate(pred_intent):\n",
        "    for j , pred in enumerate(preds):\n",
        "\n",
        "      if pred>= threshold:\n",
        "        sample_predicted_labels[j]=1\n",
        "\n",
        "  prdiction = sample_predicted_labels\n",
        "  intnts=[]\n",
        "  for j,intnt in enumerate(prdiction):\n",
        "    if intnt==1:\n",
        "      position2 = intent_val_list.index(j)\n",
        "      intent = intent_key_list[position2]\n",
        "      intnts.append(intent)\n",
        "\n",
        "  return intnts\n"
      ],
      "execution_count": null,
      "outputs": []
    },
    {
      "cell_type": "code",
      "metadata": {
        "id": "GgKMyyntJ_8n"
      },
      "source": [
        "another_inf ={'food':['Yes and where do you want this restaurant to be located?','What price range do you want to spend?','Sure. in which area?'],\n",
        "              'area':['What kind of food do you like?','Could you let me know  what price range do you want to spend?','And what kind of food?'],\n",
        "              'pricerange':['Great. What area are you looking for?','What food do you want to eat?','ok. in which area?']}\n",
        "\n",
        "help=['Hi, wellcome! I am Sarabot. how can I help you','Hello, welcome to the Cambridge restaurant system. You can ask for restaurants by area, price range or food type. How may I help you?']\n",
        "\n",
        "no_resturanet =['Unfortunately, there is no restaurant with these specifications','Sorry. There is no restaurant to offer you.','bad news. There is no restaurant with this information. Please change some items if possible.']\n",
        "\n",
        "one_recomed = {'area_food':['Ok. I just found one resturanet. It is #name .','Only one restaurant with this information was found.\" #name \" Restaurant. I heard it has good #food food.','You know I like #food food too. There is only \" #name \" restaurant in #area you can go to.','You can go to \" #name \" Restaurant. There is only this resturanet that serves #food in #area .', '#name serves #food food.'],\n",
        "               'area_pricerange':['Ok. I just found one resturanet. It is #name .','There is only one restaurants with these specifications. It is \" #name \".','The only resturanet to offer is \" #name \".' , 'OK. Due to information you gave me, I found just one good restaurants for you.\" #name \".' , 'In this pricerange #name is best choice for #food food.'],\n",
        "               'pricerange_food':['#name has good #food food in this town.','Only one restaurant with this information was found.\" #name \"  Restaurant.','Ok. I just found one resturanet. It is #name .','#name serves #food food in this pricerange','#name has great #pricerange #food food.']}\n",
        "\n",
        "area_food = ['Ok. I have a recommend to you. It is #name .','#name serves #food food in #area of town.','Due to this information, I think you should go \" #name \" Restaurant. I heard it has good #food food in #area .','You know I like #food food too. You can go to \" #name \" restaurant in #area ','#food food in #area right? Ok I found #name to you.', '#name serves #food food in #area .']\n",
        "\n",
        "area_pricerange = ['I found some restaurants for you. I suggest \" #name \" restaurant.','Ok. I have a recommend to you. It is #name .','#name has #pricerange food in #area of town.','Due to this information, I think you should go \" #name \" Restaurant. I heard it is one of best in #area .','You can go to \" #name \" restaurant in #area . It has #pricerange food.']                   \n",
        "                        \n",
        "pricerange_food = ['I found some restaurants for you. I suggest \" #name \" restaurant.','#name has #pricerange #food food.','With this pricerange,\" #name \" has good #food food.','#pricerange and #food food right? So you should go #name .']            \n",
        "\n",
        "\n",
        "phone_sample =['Sure, #phone .','The phone number of #name resturanet is #phone .','Its here #phone .']\n",
        "addr_sample =['Sure, #addr ','The #name resturanet is on #addr .' , 'The address of #name resturanet is #addr .']\n",
        "postcode_sample =['Sure, #postcode ','The postcode of #name is #postcode .','I know it. it is #postcode .']\n"
      ],
      "execution_count": null,
      "outputs": []
    },
    {
      "cell_type": "code",
      "metadata": {
        "id": "Xfvf38A7J8Ln"
      },
      "source": [
        "import random\n",
        "\n",
        "def speaker_1 (sent, turn, ex_slots, target_rest,ii ):\n",
        "  \n",
        "  slots = get_slots(sent)\n",
        "  intents = get_intents (sent)\n",
        "\n",
        "  if 'reqalts' in intents:\n",
        "    ii+=1\n",
        "    slots.update(ex_slots)\n",
        "\n",
        "  if 'request_addr' in intents:\n",
        "    if not (target_rest==''):\n",
        "      for rest in resturanets:\n",
        "        if rest['name']== target_rest:\n",
        "\n",
        "          sentence =''\n",
        "          for token in (random.sample(addr_sample, 1))[0].split():\n",
        "            if token=='#addr':\n",
        "              sentence= ' '.join([sentence, rest['addr']])\n",
        "            elif token=='#name':\n",
        "              sentence=' '.join([sentence,target_rest])\n",
        "            else:\n",
        "              sentence= ' '.join([sentence, token])\n",
        "\n",
        "          response = sentence\n",
        "    else:\n",
        "      response='You dont choice any resturanet yet.'\n",
        "\n",
        "\n",
        "\n",
        "  elif 'request_phone' in intents:\n",
        "    if not (target_rest==''):\n",
        "      for rest in resturanets:\n",
        "        if rest['name']== target_rest:\n",
        "\n",
        "          sentence =''\n",
        "          for token in (random.sample(phone_sample, 1))[0].split():\n",
        "            if token=='#phone':\n",
        "              sentence= ' '.join([sentence, rest['phone']])\n",
        "            elif token=='#name':\n",
        "              sentence=' '.join([sentence,target_rest])\n",
        "            else:\n",
        "              sentence = ' '.join([sentence, token])\n",
        "\n",
        "          response = sentence\n",
        "    else:\n",
        "      response='You dont choice any resturanet yet.'\n",
        "\n",
        "\n",
        "  elif 'request_postcode' in intents:\n",
        "    if not (target_rest==''):\n",
        "      for rest in resturanets:\n",
        "        if rest['name']== target_rest:\n",
        "          \n",
        "          sentence =''\n",
        "          for token in (random.sample(postcode_sample, 1))[0].split():\n",
        "            if token=='#postcode':\n",
        "              sentence= ' '.join([sentence, rest['postcode']])\n",
        "            elif token=='#name':\n",
        "              sentence=' '.join([sentence,target_rest])\n",
        "            else:\n",
        "              sentence= ' '.join([sentence, token])\n",
        "\n",
        "          response = sentence\n",
        "    else:\n",
        "      response='You dont choice any resturanet yet.'\n",
        "\n",
        "  elif 'thankyou' in intents:\n",
        "    response = 'Your welcome'\n",
        "\n",
        "  elif 'bye' in intents:\n",
        "    response = 'Your welcome'\n",
        "\n",
        "  elif len(slots)== 0:\n",
        "    response = random.sample(help, 1)[0]\n",
        "\n",
        "\n",
        "  elif len(slots)==1 and turn==0:\n",
        "    \n",
        "    if 'food' in slots.keys():\n",
        "      \n",
        "      response = random.sample( list (another_inf['food']), 1)[0]\n",
        "\n",
        "    if 'area' in slots.keys():\n",
        "      response = random.sample( list (another_inf['area']), 1)[0]\n",
        "\n",
        "    if 'pricerange' in slots.keys():\n",
        "      response = random.sample( list (another_inf['pricerange']), 1)[0]\n",
        "\n",
        "  elif len(slots)==1 and turn==1:\n",
        "\n",
        "    slots.update(ex_slots)\n",
        "    response ,target_rest = two_slof_fill (slots,target_rest,ii)\n",
        "\n",
        "\n",
        "  elif len(slots)>1:\n",
        "\n",
        "    response , target_rest = two_slof_fill (slots,ii)\n",
        "    \n",
        "  return response , slots , target_rest,ii\n",
        "\n",
        "\n",
        "def two_slof_fill (slots ,ii):\n",
        "\n",
        "  key_list_s = list(slots.keys())\n",
        "  val_list_s = list(slots.values())\n",
        "  target_rests=[]\n",
        "\n",
        "  for rest in resturanets:\n",
        "    if rest[key_list_s[0]] == val_list_s[0]:\n",
        "      if rest[key_list_s[1]]== val_list_s[1]:\n",
        "        target_rests.append(rest['name'])\n",
        "\n",
        "\n",
        "  if len(target_rests)==0 :\n",
        "    response = random.sample(no_resturanet, 1)[0]\n",
        "\n",
        "  if len(target_rests)==1:\n",
        "\n",
        "    if ('food' and 'area') in slots:\n",
        "      sample_sents = one_recomed['area_food']\n",
        "\n",
        "    if 'area' and ('pricerange') in slots:\n",
        "      sample_sents = one_recomed['area_pricerange']\n",
        "\n",
        "    if ('pricerange' and 'food') in slots:\n",
        "      sample_sents = one_recomed['pricerange_food']\n",
        "\n",
        "\n",
        "    sentence=''\n",
        "    target_rest = target_rests[0]\n",
        "    for token in (random.sample(one_recomed, 1))[0].split():\n",
        "\n",
        "      if token=='#name':\n",
        "        sentence= ' '.join([sentence,target_rest])\n",
        "\n",
        "      elif token=='#area':\n",
        "        sentence= ' '.join([sentence, slots['area']])\n",
        "\n",
        "      elif token=='#food':\n",
        "        sentence= ' '.join([sentence,slots['food']])\n",
        "\n",
        "      elif token=='#pricerange':\n",
        "        sentence= ' '.join([sentence,slots['pricerange']])\n",
        "\n",
        "      else:\n",
        "        sentence= ' '.join([sentence,token])\n",
        "\n",
        "    response = sentence\n",
        "\n",
        "  if len(target_rests)>1:\n",
        "\n",
        "    if 'area' in slots:\n",
        "      if 'food' in slots:\n",
        "        sample_sents = area_food\n",
        "\n",
        "    if 'area' in slots:\n",
        "      if 'pricerange' in slots:\n",
        "        sample_sents = area_pricerange\n",
        "\n",
        "    if 'pricerange' in slots:\n",
        "      if 'food' in slots:\n",
        "        sample_sents = pricerange_food\n",
        "\n",
        "    sentence=''\n",
        "    if len(target_rests)<= ii:\n",
        "\n",
        "      response = random.sample(['There is no more resturanet. That is it.','unfortunately , There is no other restaurant.'],1)[0]\n",
        "      target_rest = target_rests[len(target_rests) -1]\n",
        "\n",
        "    else:\n",
        "\n",
        "      target_rest = target_rests[ii]\n",
        "      for token in (random.sample(sample_sents, 1))[0].split():\n",
        "\n",
        "        if token=='#name':\n",
        "            \n",
        "          sentence= ' '.join([sentence,target_rest])\n",
        "\n",
        "\n",
        "        elif token=='#area':\n",
        "          sentence= ' '.join([sentence,slots['area']])\n",
        "\n",
        "        elif token=='#food':\n",
        "          sentence= ' '.join([sentence,slots['food']])\n",
        "\n",
        "        elif token=='#pricerange':\n",
        "          sentence= ' '.join([sentence,token])\n",
        "          \n",
        "        else:\n",
        "          sentence= ' '.join([sentence,token])\n",
        "\n",
        "      response = sentence\n",
        "\n",
        "  return response , target_rest\n"
      ],
      "execution_count": null,
      "outputs": []
    },
    {
      "cell_type": "markdown",
      "metadata": {
        "id": "WFoE5oJQH62z"
      },
      "source": [
        "## **برای شروع مکالمه، سلول زیر را تنها در شروع مکالمه اجرا کنید. **"
      ]
    },
    {
      "cell_type": "code",
      "metadata": {
        "id": "D3bt1Gslk2gi"
      },
      "source": [
        "#...................start.....................\n",
        "#...................RESET.....................\n",
        "# every time you want start \"new conversation\" , please run theis cell first\n",
        "turn = 0\n",
        "target_rest=''\n",
        "ex_slots = {}\n",
        "ii=0"
      ],
      "execution_count": null,
      "outputs": []
    },
    {
      "cell_type": "markdown",
      "metadata": {
        "id": "FwMq0zmjILI2"
      },
      "source": [
        "## *برای مکالمه تنها کافیست جمله ی خود را در مکان مشخص شده بنویسید و فقط سلول زیر را اجرا نمایید. تنها برای \"شروع\" مکالمه ی بعدی (ریست)، ابتدا سلول بالا را اجرا کنید.*"
      ]
    },
    {
      "cell_type": "code",
      "metadata": {
        "colab": {
          "base_uri": "https://localhost:8080/"
        },
        "id": "yujApRoRJ0qH",
        "outputId": "b79a8ade-d52b-4bd7-c65c-59d537bc410c"
      },
      "source": [
        "#put your question in \"your_sentence\".\n",
        "\n",
        "your_sentence = 'I want indian food in west part of town.'\n",
        "\n",
        "answer , ex_slots , target_rest ,ii = speaker_1 (your_sentence , turn , ex_slots ,target_rest, ii)\n",
        "ex_slots = ex_slots\n",
        "\n",
        "if len(ex_slots)==1:\n",
        "  turn +=1\n",
        "\n",
        "print(answer)"
      ],
      "execution_count": 283,
      "outputs": [
        {
          "output_type": "stream",
          "name": "stdout",
          "text": [
            " cocum serves indian food in west of town.\n"
          ]
        }
      ]
    }
  ]
}